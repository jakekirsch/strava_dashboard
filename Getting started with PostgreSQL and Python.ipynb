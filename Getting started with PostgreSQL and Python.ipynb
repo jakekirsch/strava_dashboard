{
 "cells": [
  {
   "cell_type": "markdown",
   "metadata": {},
   "source": [
    "# Background and Motivation\n",
    "\n",
    "If you're like me, you've been learning Python for a little while now in the hopes of landing a data analyst/data scientist job. You've been following online tutorials, reading your data from downloaded csv's, data-munging, modeling and plotting entirely within a jupyter notebook. \n",
    "\n",
    "The problem is this is not a realistic data analysis workflow. Real data doesn't live in flat files that are easily read into memory. So I decided to start a project that would be a closer approximation to what a data anlayst actually does. This project will require me to create and manage a database, build a data pipeline to populate that database from an api, and finally, build a small web app that hosts an analytical dashboard for visualization.\n",
    "\n",
    "Finally, it's always more fun to work on a problem that is more interesting to you. I really enjoy running, so the idea of working with Strava data was pretty exciting for me.\n",
    "\n",
    "I will blog my way through this project. As I learn and code up projects, I generally will depart from the main project and explore a concept in isolation (how does list comprehension work?) and then return to the main problem. I imagine that my posts will follow this format; posts which walks through how the final result was built, and spurs along the way that help build out a deeper understanding of how pieces work."
   ]
  },
  {
   "cell_type": "markdown",
   "metadata": {},
   "source": [
    "# What this post covers\n",
    "\n",
    "This is a short post that explores the following points regarding interacting and managing PostgreSQL from Python. These are the points, thus far, that I think are necessary to expore further to build understanding. You can easily skip the first part on background definitions and go straight to \"2. Driving PostgreSQL from Python\"\n",
    "\n",
    "1. Some background definitions\n",
    "    1. What is a database?\n",
    "    2. What is a relational Databases\n",
    "    3. What is SQL?\n",
    "    4. What is PostgreSQL?\n",
    "    5. What is SQLAlchemy?\n",
    "2. Driving PostgreSQL from Python\n",
    "    1. Create a table\n",
    "    2. Retrieve information about the table\n",
    "    3. List what tables are in the database\n",
    "    4. Delete a table\n",
    "    5. Insert data into table\n",
    "    6. Delete data from a table\n",
    "    7. Update data\n",
    "3. How do we avoid inserting duplicates?\n",
    "    1.\n",
    "\n",
    "# Some background definitions\n",
    "\n",
    "## What is a Database?\n",
    "\n",
    "A **database,** or **database system** generally consists of 3 things; a **database**, a **database management system** and a **database model**. I think the analogy of a library helps put this into real-world context. \n",
    "\n",
    "The library is composed of all the books, newspapers, magazines etc stored on shelves organized systematically. This is the **database**. However, customers can't access the library without the library staff and the procedures they bring to the physical library. Customers use the library staff and their procedures for finding, checking out, returning books. This is the role of the **database management system**. Finally, the **database model** defines what type of data is stored and how that data is organized. Most libraries use the dewey decimal system as a model for storing and organizing books/newspapers etc.\n",
    "\n",
    "\n",
    "## Relational Databases\n",
    "Relational Databases make up the majority of the database systems that are used today. An extremely simplified explanation of a relational database is that it is a collection of named tables, or flat csv files, holding information. We can define how many columns each table has and what type of data each column can hold. Even further, we can create dependencies between the tables, such that the value of column in one table must be found in the column of another table.\n",
    "\n",
    "There are some alternatives to the relational model, however for our purposes, we will stick with the concept of a collection of tables.\n",
    "\n",
    "## What is SQL?\n",
    "At it's essence, SQL is a language specific to querying data from a relational database system. It is a **declarative language** which means that it describes what to do, not how it needs to be done. Using the library example, you would tell the librarian \"Can you bring me 'SQL for Dummies'?\" - you would not continue give them additional instructions on exactly how to search for and retrieve the book.\n",
    "\n",
    "\n",
    "#### Structure of SQL\n",
    "There are four main operations that SQL performs - query the data, manipulate the data, define the data/schema (such as tables, data types, constraints), and define access/control of data (who can perform the other three). I will refrain from attempting to break down the language elements any further at this point.\n",
    "\n",
    "#### Quick aside on syntax\n",
    "Syntax means the arrangment of words to create well formed sentences (to hopefully express meaning). In SQL we can think of syntax as the how we write and what we write to achieve a desired interaction with the database. Unfortunately the syntax is not consistent across database systems, however the syntax (I think) is similar enough that one should be able to pick up new flavors of SQL relatively quickly.\n",
    "\n",
    "## What is PostgreSQL\n",
    "PostgreSQL is an open-source database system. It's great because it's free to download and easy to work with (so far). With it, we can create a database locally on our computers and fairly quickly interact with it in our python script.\n",
    "\n",
    "## What is SQLAlchemy\n",
    "SQLAlchemy is a toolkit that allows us to interact with our database using python. With SQLAlchemy, we can connect to our PostgreSQL database and start experimenting with the four main operations (query, manipulate, define data/schema, define access and control). Because we want to build experience and practice writing queries, SQLAlchemy will let us pass queries written in SQL to the Postgres database.\n",
    "\n",
    "There is a lot more that SQLAlchemy can do, check out this article for more detail https://www.compose.com/articles/using-postgresql-through-sqlalchemy/\n",
    "\n",
    "\n",
    "# Driving PostgreSQL with SQLAlchemy\n",
    "\n",
    "Note that I previously installed PostgreSQL. Download instructions can be found from their website."
   ]
  },
  {
   "cell_type": "code",
   "execution_count": 1,
   "metadata": {},
   "outputs": [
    {
     "name": "stderr",
     "output_type": "stream",
     "text": [
      "/Users/jakekirsch/.pyenv/versions/jupyter3/lib/python3.6/site-packages/psycopg2/__init__.py:144: UserWarning: The psycopg2 wheel package will be renamed from release 2.8; in order to keep installing from binary please use \"pip install psycopg2-binary\" instead. For details see: <http://initd.org/psycopg/docs/install.html#binary-install-from-pypi>.\n",
      "  \"\"\")\n"
     ]
    }
   ],
   "source": [
    "import pandas as pd\n",
    "import numpy as np\n",
    "import psycopg2 # required to use sqlalchemy with PostgreSQL\n",
    "from sqlalchemy import create_engine # also used to communicate with postgres"
   ]
  },
  {
   "cell_type": "markdown",
   "metadata": {},
   "source": [
    "`create_engine` creates an `engine` object, which abstracts away all the complexity of managing a connection to a database. We can connect to many types of databases using SQLAlchemy and the engine construct, in our example we connect to PosgreSQL.\n",
    "\n",
    "The first part of the string `'postgresql:'` defines the `Dialect` for the engine, or the type of database we're connecting to. The remainder of the string defines the location of that server."
   ]
  },
  {
   "cell_type": "code",
   "execution_count": 2,
   "metadata": {},
   "outputs": [],
   "source": [
    "# we can use SQLAlchemy to create an engine that allows us to interact with our Postgres DB with SQL code\n",
    "engine = create_engine('postgresql://jakekirsch:@localhost/jakekirsch')"
   ]
  },
  {
   "cell_type": "markdown",
   "metadata": {},
   "source": [
    "## Create a new table\n",
    "\n",
    "Now, we need to build a simple table to get started. I'm going to hand craft all of the db interactions because I would like to practice the SQL syntax. To do so, we use the `.execute()` function of our `engine`, which accepts strings that are syntactically correct SQL statements. \n",
    "\n",
    "The great thing about SQL is that it's pretty easy to read. As you might guess, the first statement tells my db to drop a table named `test_table` if it exists.\n",
    "\n",
    "The second statement is everything that comes after `CREATE TABLE`. Here we are defining a table with the name `test_table` that has the column names `alpha`, `beta` and `gamma`. After each column name, we define the data type; `bigint`, `int`, and `text` respectively. "
   ]
  },
  {
   "cell_type": "code",
   "execution_count": 3,
   "metadata": {},
   "outputs": [
    {
     "data": {
      "text/plain": [
       "<sqlalchemy.engine.result.ResultProxy at 0x1153a1630>"
      ]
     },
     "execution_count": 3,
     "metadata": {},
     "output_type": "execute_result"
    }
   ],
   "source": [
    "# engine was created before \n",
    "# create a simple table\n",
    "engine.execute(\"\"\"DROP TABLE IF EXISTS test_table;\n",
    "\n",
    "CREATE TABLE test_table (\n",
    "alpha bigint,\n",
    "beta int,\n",
    "gamma text);\"\"\")"
   ]
  },
  {
   "cell_type": "markdown",
   "metadata": {},
   "source": [
    "## Retrieve information about newly created table\n",
    "Now we might want to confirm that it was successfully created. To check from within this script, we can use the following statement.\n",
    "\n",
    "#### Aside on SCHEMA\n",
    "A schema is a level of organization within a database, at this point we can think of them like folders on your computer. Schema's contain tables, as well as other database objects that we may have created.\n",
    "\n",
    "The `INFORMATION_SCHEMA` is a schema that is in evey database by default. The tables and objects in the `INFORMATION_SCHEMA` give us access to information about the structure of our database. We can use the table `COLUMNS` in the `INFORMATION_SCHEMA` to obtain information about our newly created table. In our case, we want to see the column names and data types of `test_table`\n",
    "\n",
    "#### Access the information returned by a query\n",
    "We have to assign the `engine.execute()` call to a variable in order to access the information that is returned by our query. A `ResultProxy` abstracts away the management of lower level objects that interact with our database. At this point, if I'm executing a query that should return information (table), as opposed to manipulate or update information, I assign to a variable.\n",
    "\n",
    "We then use `.fetchone()` or `.fetchall()` to access our information"
   ]
  },
  {
   "cell_type": "code",
   "execution_count": 4,
   "metadata": {},
   "outputs": [
    {
     "data": {
      "text/plain": [
       "[('alpha', 'bigint', None), ('beta', 'integer', None), ('gamma', 'text', None)]"
      ]
     },
     "execution_count": 4,
     "metadata": {},
     "output_type": "execute_result"
    }
   ],
   "source": [
    "# confirm it was created\n",
    "col_info = \"\"\"SELECT column_name, data_type, character_maximum_length\n",
    "    FROM INFORMATION_SCHEMA.COLUMNS where table_name = 'test_table';\"\"\"\n",
    "result = engine.execute(col_info)\n",
    "result.fetchall()"
   ]
  },
  {
   "cell_type": "markdown",
   "metadata": {},
   "source": [
    "Great, the results are as expected. \n",
    "\n",
    "What is interesting, is that once you exhaust the information that the `result` variable contains (i.e. the rows that are in the returned table) `result` is empty, in the sense you cannot access the rows again unless you execute the query once more."
   ]
  },
  {
   "cell_type": "code",
   "execution_count": 5,
   "metadata": {},
   "outputs": [
    {
     "data": {
      "text/plain": [
       "[]"
      ]
     },
     "execution_count": 5,
     "metadata": {},
     "output_type": "execute_result"
    }
   ],
   "source": [
    "result.fetchall()"
   ]
  },
  {
   "cell_type": "markdown",
   "metadata": {},
   "source": [
    "## List what tables are in the database\n",
    "\n",
    "Perhaps your new to working on this database, or you forget what you named certain tables, we can use the `INFORMATION_SCHEMA` to obtain all of the tables in the database. We access this information in the `INFORMATION_SCHEMA.tables` relation. First let's see what columns are in this `INFORMATION_SCHEMA.tables` relation"
   ]
  },
  {
   "cell_type": "code",
   "execution_count": 6,
   "metadata": {},
   "outputs": [
    {
     "data": {
      "text/plain": [
       "[('table_catalog', 'character varying', None),\n",
       " ('table_schema', 'character varying', None),\n",
       " ('table_name', 'character varying', None),\n",
       " ('table_type', 'character varying', None),\n",
       " ('self_referencing_column_name', 'character varying', None),\n",
       " ('reference_generation', 'character varying', None),\n",
       " ('user_defined_type_catalog', 'character varying', None),\n",
       " ('user_defined_type_schema', 'character varying', None),\n",
       " ('user_defined_type_name', 'character varying', None),\n",
       " ('is_insertable_into', 'character varying', 3),\n",
       " ('is_typed', 'character varying', 3),\n",
       " ('commit_action', 'character varying', None)]"
      ]
     },
     "execution_count": 6,
     "metadata": {},
     "output_type": "execute_result"
    }
   ],
   "source": [
    "col_info_tables = '''\n",
    "SELECT column_name, data_type, character_maximum_length FROM INFORMATION_SCHEMA.COLUMNS WHERE table_name = 'tables';\n",
    "'''\n",
    "engine.execute(col_info_tables).fetchall()"
   ]
  },
  {
   "cell_type": "markdown",
   "metadata": {},
   "source": [
    "So we'll retrieve the first 4 to make it easier to read"
   ]
  },
  {
   "cell_type": "code",
   "execution_count": 7,
   "metadata": {},
   "outputs": [
    {
     "data": {
      "text/plain": [
       "[('jakekirsch', 'public', 'test_table', 'BASE TABLE'),\n",
       " ('jakekirsch', 'pg_catalog', 'pg_statistic', 'BASE TABLE'),\n",
       " ('jakekirsch', 'pg_catalog', 'pg_foreign_table', 'BASE TABLE'),\n",
       " ('jakekirsch', 'pg_catalog', 'pg_authid', 'BASE TABLE'),\n",
       " ('jakekirsch', 'pg_catalog', 'pg_shadow', 'VIEW'),\n",
       " ('jakekirsch', 'pg_catalog', 'pg_roles', 'VIEW'),\n",
       " ('jakekirsch', 'pg_catalog', 'pg_settings', 'VIEW'),\n",
       " ('jakekirsch', 'pg_catalog', 'pg_file_settings', 'VIEW'),\n",
       " ('jakekirsch', 'pg_catalog', 'pg_hba_file_rules', 'VIEW'),\n",
       " ('jakekirsch', 'pg_catalog', 'pg_config', 'VIEW'),\n",
       " ('jakekirsch', 'pg_catalog', 'pg_user_mapping', 'BASE TABLE'),\n",
       " ('jakekirsch', 'pg_catalog', 'pg_replication_origin_status', 'VIEW'),\n",
       " ('jakekirsch', 'pg_catalog', 'pg_subscription', 'BASE TABLE'),\n",
       " ('jakekirsch', 'pg_catalog', 'pg_statio_all_indexes', 'VIEW'),\n",
       " ('jakekirsch', 'pg_catalog', 'pg_largeobject', 'BASE TABLE'),\n",
       " ('jakekirsch', 'pg_catalog', 'pg_type', 'BASE TABLE'),\n",
       " ('jakekirsch', 'pg_catalog', 'pg_attribute', 'BASE TABLE'),\n",
       " ('jakekirsch', 'pg_catalog', 'pg_proc', 'BASE TABLE'),\n",
       " ('jakekirsch', 'pg_catalog', 'pg_class', 'BASE TABLE'),\n",
       " ('jakekirsch', 'pg_catalog', 'pg_attrdef', 'BASE TABLE'),\n",
       " ('jakekirsch', 'pg_catalog', 'pg_constraint', 'BASE TABLE'),\n",
       " ('jakekirsch', 'pg_catalog', 'pg_inherits', 'BASE TABLE'),\n",
       " ('jakekirsch', 'pg_catalog', 'pg_index', 'BASE TABLE'),\n",
       " ('jakekirsch', 'pg_catalog', 'pg_operator', 'BASE TABLE'),\n",
       " ('jakekirsch', 'pg_catalog', 'pg_opfamily', 'BASE TABLE'),\n",
       " ('jakekirsch', 'pg_catalog', 'pg_opclass', 'BASE TABLE'),\n",
       " ('jakekirsch', 'pg_catalog', 'pg_am', 'BASE TABLE'),\n",
       " ('jakekirsch', 'pg_catalog', 'pg_amop', 'BASE TABLE'),\n",
       " ('jakekirsch', 'pg_catalog', 'pg_amproc', 'BASE TABLE'),\n",
       " ('jakekirsch', 'pg_catalog', 'pg_language', 'BASE TABLE'),\n",
       " ('jakekirsch', 'pg_catalog', 'pg_largeobject_metadata', 'BASE TABLE'),\n",
       " ('jakekirsch', 'pg_catalog', 'pg_aggregate', 'BASE TABLE'),\n",
       " ('jakekirsch', 'pg_catalog', 'pg_statistic_ext', 'BASE TABLE'),\n",
       " ('jakekirsch', 'pg_catalog', 'pg_rewrite', 'BASE TABLE'),\n",
       " ('jakekirsch', 'pg_catalog', 'pg_trigger', 'BASE TABLE'),\n",
       " ('jakekirsch', 'pg_catalog', 'pg_event_trigger', 'BASE TABLE'),\n",
       " ('jakekirsch', 'pg_catalog', 'pg_description', 'BASE TABLE'),\n",
       " ('jakekirsch', 'pg_catalog', 'pg_cast', 'BASE TABLE'),\n",
       " ('jakekirsch', 'pg_catalog', 'pg_enum', 'BASE TABLE'),\n",
       " ('jakekirsch', 'pg_catalog', 'pg_namespace', 'BASE TABLE'),\n",
       " ('jakekirsch', 'pg_catalog', 'pg_conversion', 'BASE TABLE'),\n",
       " ('jakekirsch', 'pg_catalog', 'pg_depend', 'BASE TABLE'),\n",
       " ('jakekirsch', 'pg_catalog', 'pg_database', 'BASE TABLE'),\n",
       " ('jakekirsch', 'pg_catalog', 'pg_db_role_setting', 'BASE TABLE'),\n",
       " ('jakekirsch', 'pg_catalog', 'pg_tablespace', 'BASE TABLE'),\n",
       " ('jakekirsch', 'pg_catalog', 'pg_pltemplate', 'BASE TABLE'),\n",
       " ('jakekirsch', 'pg_catalog', 'pg_auth_members', 'BASE TABLE'),\n",
       " ('jakekirsch', 'pg_catalog', 'pg_shdepend', 'BASE TABLE'),\n",
       " ('jakekirsch', 'pg_catalog', 'pg_shdescription', 'BASE TABLE'),\n",
       " ('jakekirsch', 'pg_catalog', 'pg_ts_config', 'BASE TABLE'),\n",
       " ('jakekirsch', 'pg_catalog', 'pg_ts_config_map', 'BASE TABLE'),\n",
       " ('jakekirsch', 'pg_catalog', 'pg_ts_dict', 'BASE TABLE'),\n",
       " ('jakekirsch', 'pg_catalog', 'pg_ts_parser', 'BASE TABLE'),\n",
       " ('jakekirsch', 'pg_catalog', 'pg_ts_template', 'BASE TABLE'),\n",
       " ('jakekirsch', 'pg_catalog', 'pg_extension', 'BASE TABLE'),\n",
       " ('jakekirsch', 'pg_catalog', 'pg_foreign_data_wrapper', 'BASE TABLE'),\n",
       " ('jakekirsch', 'pg_catalog', 'pg_foreign_server', 'BASE TABLE'),\n",
       " ('jakekirsch', 'pg_catalog', 'pg_policy', 'BASE TABLE'),\n",
       " ('jakekirsch', 'pg_catalog', 'pg_replication_origin', 'BASE TABLE'),\n",
       " ('jakekirsch', 'pg_catalog', 'pg_default_acl', 'BASE TABLE'),\n",
       " ('jakekirsch', 'pg_catalog', 'pg_init_privs', 'BASE TABLE'),\n",
       " ('jakekirsch', 'pg_catalog', 'pg_seclabel', 'BASE TABLE'),\n",
       " ('jakekirsch', 'pg_catalog', 'pg_shseclabel', 'BASE TABLE'),\n",
       " ('jakekirsch', 'pg_catalog', 'pg_collation', 'BASE TABLE'),\n",
       " ('jakekirsch', 'pg_catalog', 'pg_partitioned_table', 'BASE TABLE'),\n",
       " ('jakekirsch', 'pg_catalog', 'pg_range', 'BASE TABLE'),\n",
       " ('jakekirsch', 'pg_catalog', 'pg_transform', 'BASE TABLE'),\n",
       " ('jakekirsch', 'pg_catalog', 'pg_sequence', 'BASE TABLE'),\n",
       " ('jakekirsch', 'pg_catalog', 'pg_publication', 'BASE TABLE'),\n",
       " ('jakekirsch', 'pg_catalog', 'pg_publication_rel', 'BASE TABLE'),\n",
       " ('jakekirsch', 'pg_catalog', 'pg_subscription_rel', 'BASE TABLE'),\n",
       " ('jakekirsch', 'pg_catalog', 'pg_matviews', 'VIEW'),\n",
       " ('jakekirsch', 'pg_catalog', 'pg_group', 'VIEW'),\n",
       " ('jakekirsch', 'pg_catalog', 'pg_user', 'VIEW'),\n",
       " ('jakekirsch', 'pg_catalog', 'pg_policies', 'VIEW'),\n",
       " ('jakekirsch', 'pg_catalog', 'pg_rules', 'VIEW'),\n",
       " ('jakekirsch', 'pg_catalog', 'pg_views', 'VIEW'),\n",
       " ('jakekirsch', 'pg_catalog', 'pg_tables', 'VIEW'),\n",
       " ('jakekirsch', 'pg_catalog', 'pg_indexes', 'VIEW'),\n",
       " ('jakekirsch', 'pg_catalog', 'pg_sequences', 'VIEW'),\n",
       " ('jakekirsch', 'pg_catalog', 'pg_stats', 'VIEW'),\n",
       " ('jakekirsch', 'pg_catalog', 'pg_publication_tables', 'VIEW'),\n",
       " ('jakekirsch', 'pg_catalog', 'pg_locks', 'VIEW'),\n",
       " ('jakekirsch', 'pg_catalog', 'pg_cursors', 'VIEW'),\n",
       " ('jakekirsch', 'pg_catalog', 'pg_available_extensions', 'VIEW'),\n",
       " ('jakekirsch', 'pg_catalog', 'pg_available_extension_versions', 'VIEW'),\n",
       " ('jakekirsch', 'pg_catalog', 'pg_prepared_xacts', 'VIEW'),\n",
       " ('jakekirsch', 'pg_catalog', 'pg_prepared_statements', 'VIEW'),\n",
       " ('jakekirsch', 'pg_catalog', 'pg_seclabels', 'VIEW'),\n",
       " ('jakekirsch', 'pg_catalog', 'pg_statio_sys_indexes', 'VIEW'),\n",
       " ('jakekirsch', 'pg_catalog', 'pg_timezone_abbrevs', 'VIEW'),\n",
       " ('jakekirsch', 'pg_catalog', 'pg_timezone_names', 'VIEW'),\n",
       " ('jakekirsch', 'pg_catalog', 'pg_stat_all_tables', 'VIEW'),\n",
       " ('jakekirsch', 'pg_catalog', 'pg_stat_xact_all_tables', 'VIEW'),\n",
       " ('jakekirsch', 'pg_catalog', 'pg_stat_sys_tables', 'VIEW'),\n",
       " ('jakekirsch', 'pg_catalog', 'pg_stat_xact_sys_tables', 'VIEW'),\n",
       " ('jakekirsch', 'pg_catalog', 'pg_stat_user_tables', 'VIEW'),\n",
       " ('jakekirsch', 'pg_catalog', 'pg_stat_xact_user_tables', 'VIEW'),\n",
       " ('jakekirsch', 'pg_catalog', 'pg_statio_all_tables', 'VIEW'),\n",
       " ('jakekirsch', 'pg_catalog', 'pg_statio_sys_tables', 'VIEW'),\n",
       " ('jakekirsch', 'pg_catalog', 'pg_statio_user_tables', 'VIEW'),\n",
       " ('jakekirsch', 'pg_catalog', 'pg_stat_all_indexes', 'VIEW'),\n",
       " ('jakekirsch', 'pg_catalog', 'pg_stat_sys_indexes', 'VIEW'),\n",
       " ('jakekirsch', 'pg_catalog', 'pg_stat_user_indexes', 'VIEW'),\n",
       " ('jakekirsch', 'pg_catalog', 'pg_statio_user_indexes', 'VIEW'),\n",
       " ('jakekirsch', 'pg_catalog', 'pg_statio_all_sequences', 'VIEW'),\n",
       " ('jakekirsch', 'pg_catalog', 'pg_statio_sys_sequences', 'VIEW'),\n",
       " ('jakekirsch', 'pg_catalog', 'pg_statio_user_sequences', 'VIEW'),\n",
       " ('jakekirsch', 'pg_catalog', 'pg_stat_activity', 'VIEW'),\n",
       " ('jakekirsch', 'pg_catalog', 'pg_stat_replication', 'VIEW'),\n",
       " ('jakekirsch', 'pg_catalog', 'pg_stat_wal_receiver', 'VIEW'),\n",
       " ('jakekirsch', 'pg_catalog', 'pg_stat_subscription', 'VIEW'),\n",
       " ('jakekirsch', 'pg_catalog', 'pg_stat_ssl', 'VIEW'),\n",
       " ('jakekirsch', 'pg_catalog', 'pg_replication_slots', 'VIEW'),\n",
       " ('jakekirsch', 'pg_catalog', 'pg_stat_database', 'VIEW'),\n",
       " ('jakekirsch', 'pg_catalog', 'pg_stat_database_conflicts', 'VIEW'),\n",
       " ('jakekirsch', 'pg_catalog', 'pg_stat_user_functions', 'VIEW'),\n",
       " ('jakekirsch', 'pg_catalog', 'pg_stat_xact_user_functions', 'VIEW'),\n",
       " ('jakekirsch', 'pg_catalog', 'pg_stat_archiver', 'VIEW'),\n",
       " ('jakekirsch', 'pg_catalog', 'pg_stat_bgwriter', 'VIEW'),\n",
       " ('jakekirsch', 'pg_catalog', 'pg_stat_progress_vacuum', 'VIEW'),\n",
       " ('jakekirsch', 'pg_catalog', 'pg_user_mappings', 'VIEW'),\n",
       " ('jakekirsch', 'information_schema', 'key_column_usage', 'VIEW'),\n",
       " ('jakekirsch', 'information_schema', 'information_schema_catalog_name', 'VIEW'),\n",
       " ('jakekirsch', 'information_schema', 'column_privileges', 'VIEW'),\n",
       " ('jakekirsch', 'information_schema', 'applicable_roles', 'VIEW'),\n",
       " ('jakekirsch', 'information_schema', 'administrable_role_authorizations', 'VIEW'),\n",
       " ('jakekirsch', 'information_schema', 'domain_udt_usage', 'VIEW'),\n",
       " ('jakekirsch', 'information_schema', 'attributes', 'VIEW'),\n",
       " ('jakekirsch', 'information_schema', 'column_udt_usage', 'VIEW'),\n",
       " ('jakekirsch', 'information_schema', 'character_sets', 'VIEW'),\n",
       " ('jakekirsch', 'information_schema', 'check_constraint_routine_usage', 'VIEW'),\n",
       " ('jakekirsch', 'information_schema', 'check_constraints', 'VIEW'),\n",
       " ('jakekirsch', 'information_schema', 'columns', 'VIEW'),\n",
       " ('jakekirsch', 'information_schema', 'collations', 'VIEW'),\n",
       " ('jakekirsch', 'information_schema', 'collation_character_set_applicability', 'VIEW'),\n",
       " ('jakekirsch', 'information_schema', 'column_domain_usage', 'VIEW'),\n",
       " ('jakekirsch', 'information_schema', 'constraint_column_usage', 'VIEW'),\n",
       " ('jakekirsch', 'information_schema', 'domains', 'VIEW'),\n",
       " ('jakekirsch', 'information_schema', 'constraint_table_usage', 'VIEW'),\n",
       " ('jakekirsch', 'information_schema', 'domain_constraints', 'VIEW'),\n",
       " ('jakekirsch', 'information_schema', 'referential_constraints', 'VIEW'),\n",
       " ('jakekirsch', 'information_schema', 'enabled_roles', 'VIEW'),\n",
       " ('jakekirsch', 'information_schema', 'parameters', 'VIEW'),\n",
       " ('jakekirsch', 'information_schema', 'routine_privileges', 'VIEW'),\n",
       " ('jakekirsch', 'information_schema', 'role_column_grants', 'VIEW'),\n",
       " ('jakekirsch', 'information_schema', 'role_routine_grants', 'VIEW'),\n",
       " ('jakekirsch', 'information_schema', 'routines', 'VIEW'),\n",
       " ('jakekirsch', 'information_schema', 'schemata', 'VIEW'),\n",
       " ('jakekirsch', 'information_schema', 'table_constraints', 'VIEW'),\n",
       " ('jakekirsch', 'information_schema', 'sequences', 'VIEW'),\n",
       " ('jakekirsch', 'information_schema', 'sql_features', 'BASE TABLE'),\n",
       " ('jakekirsch', 'information_schema', 'sql_implementation_info', 'BASE TABLE'),\n",
       " ('jakekirsch', 'information_schema', 'table_privileges', 'VIEW'),\n",
       " ('jakekirsch', 'information_schema', 'sql_languages', 'BASE TABLE'),\n",
       " ('jakekirsch', 'information_schema', 'sql_packages', 'BASE TABLE'),\n",
       " ('jakekirsch', 'information_schema', 'sql_parts', 'BASE TABLE'),\n",
       " ('jakekirsch', 'information_schema', 'triggers', 'VIEW'),\n",
       " ('jakekirsch', 'information_schema', 'sql_sizing', 'BASE TABLE'),\n",
       " ('jakekirsch', 'information_schema', 'role_table_grants', 'VIEW'),\n",
       " ('jakekirsch', 'information_schema', 'sql_sizing_profiles', 'BASE TABLE'),\n",
       " ('jakekirsch', 'information_schema', 'usage_privileges', 'VIEW'),\n",
       " ('jakekirsch', 'information_schema', 'tables', 'VIEW'),\n",
       " ('jakekirsch', 'information_schema', 'transforms', 'VIEW'),\n",
       " ('jakekirsch', 'information_schema', 'udt_privileges', 'VIEW'),\n",
       " ('jakekirsch', 'information_schema', 'triggered_update_columns', 'VIEW'),\n",
       " ('jakekirsch', 'information_schema', 'role_udt_grants', 'VIEW'),\n",
       " ('jakekirsch', 'information_schema', 'user_defined_types', 'VIEW'),\n",
       " ('jakekirsch', 'information_schema', 'role_usage_grants', 'VIEW'),\n",
       " ('jakekirsch', 'information_schema', 'view_column_usage', 'VIEW'),\n",
       " ('jakekirsch', 'information_schema', 'view_routine_usage', 'VIEW'),\n",
       " ('jakekirsch', 'information_schema', 'view_table_usage', 'VIEW'),\n",
       " ('jakekirsch', 'information_schema', 'views', 'VIEW'),\n",
       " ('jakekirsch', 'information_schema', 'data_type_privileges', 'VIEW'),\n",
       " ('jakekirsch', 'information_schema', 'user_mapping_options', 'VIEW'),\n",
       " ('jakekirsch', 'information_schema', 'element_types', 'VIEW'),\n",
       " ('jakekirsch', 'information_schema', '_pg_foreign_table_columns', 'VIEW'),\n",
       " ('jakekirsch', 'information_schema', 'column_options', 'VIEW'),\n",
       " ('jakekirsch', 'information_schema', '_pg_foreign_data_wrappers', 'VIEW'),\n",
       " ('jakekirsch', 'information_schema', 'foreign_data_wrapper_options', 'VIEW'),\n",
       " ('jakekirsch', 'information_schema', 'user_mappings', 'VIEW'),\n",
       " ('jakekirsch', 'information_schema', 'foreign_data_wrappers', 'VIEW'),\n",
       " ('jakekirsch', 'information_schema', '_pg_foreign_servers', 'VIEW'),\n",
       " ('jakekirsch', 'information_schema', 'foreign_server_options', 'VIEW'),\n",
       " ('jakekirsch', 'information_schema', 'foreign_servers', 'VIEW'),\n",
       " ('jakekirsch', 'information_schema', '_pg_foreign_tables', 'VIEW'),\n",
       " ('jakekirsch', 'information_schema', 'foreign_table_options', 'VIEW'),\n",
       " ('jakekirsch', 'information_schema', 'foreign_tables', 'VIEW'),\n",
       " ('jakekirsch', 'information_schema', '_pg_user_mappings', 'VIEW')]"
      ]
     },
     "execution_count": 7,
     "metadata": {},
     "output_type": "execute_result"
    }
   ],
   "source": [
    "list_tables = \"\"\"\n",
    "SELECT table_catalog, table_schema, table_name, table_type FROM INFORMATION_SCHEMA.tables\n",
    "\"\"\"\n",
    "engine.execute(list_tables).fetchall()"
   ]
  },
  {
   "cell_type": "markdown",
   "metadata": {},
   "source": [
    "Wow, lot of tables here. To see just the tables that we have just created, we need to restrict the to the database tables that are in the `'public'` schema. The `public` schema is created by default, and tables are added to this schema unless we specify otherwise."
   ]
  },
  {
   "cell_type": "code",
   "execution_count": 8,
   "metadata": {},
   "outputs": [
    {
     "data": {
      "text/plain": [
       "[('jakekirsch', 'public', 'test_table', 'BASE TABLE', None, None, None, None, None, 'YES', 'NO', None)]"
      ]
     },
     "execution_count": 8,
     "metadata": {},
     "output_type": "execute_result"
    }
   ],
   "source": [
    "public_tables = '''\n",
    "SELECT * FROM INFORMATION_SCHEMA.tables WHERE table_schema = 'public'\n",
    "'''\n",
    "engine.execute(public_tables).fetchall()"
   ]
  },
  {
   "cell_type": "markdown",
   "metadata": {},
   "source": [
    "Great, we see our `test_table` right there"
   ]
  },
  {
   "cell_type": "markdown",
   "metadata": {},
   "source": [
    "## Delete (drop) a table \n",
    "\n",
    "Suppose we want to completely delete our `test_table`. If we are the owner of said table, we can do the following"
   ]
  },
  {
   "cell_type": "code",
   "execution_count": 9,
   "metadata": {},
   "outputs": [
    {
     "data": {
      "text/plain": [
       "<sqlalchemy.engine.result.ResultProxy at 0x10c76b208>"
      ]
     },
     "execution_count": 9,
     "metadata": {},
     "output_type": "execute_result"
    }
   ],
   "source": [
    "drop_table = \"\"\"DROP TABLE test_table;\"\"\"\n",
    "engine.execute(drop_table)"
   ]
  },
  {
   "cell_type": "markdown",
   "metadata": {},
   "source": [
    "And then check the public schema for a list of tables"
   ]
  },
  {
   "cell_type": "code",
   "execution_count": 10,
   "metadata": {},
   "outputs": [
    {
     "data": {
      "text/plain": [
       "[]"
      ]
     },
     "execution_count": 10,
     "metadata": {},
     "output_type": "execute_result"
    }
   ],
   "source": [
    "res = engine.execute('''SELECT * from INFORMATION_SCHEMA.tables WHERE table_schema = 'public'; ''')\n",
    "res.fetchall()"
   ]
  },
  {
   "cell_type": "markdown",
   "metadata": {},
   "source": [
    "Excellent, table removed. "
   ]
  },
  {
   "cell_type": "markdown",
   "metadata": {},
   "source": [
    "## Insert data into table\n",
    "\n",
    "Now we want to practice inserting some data into our newly created table. We'll experiment with a few methods on this, we'll re-create the sample `test_table` first and a dataframe with 3 columns."
   ]
  },
  {
   "cell_type": "code",
   "execution_count": 11,
   "metadata": {},
   "outputs": [
    {
     "data": {
      "text/plain": [
       "<sqlalchemy.engine.result.ResultProxy at 0x1153d8e10>"
      ]
     },
     "execution_count": 11,
     "metadata": {},
     "output_type": "execute_result"
    }
   ],
   "source": [
    "# create a simple table\n",
    "engine.execute(\"\"\"DROP TABLE IF EXISTS test_table;\n",
    "\n",
    "CREATE TABLE test_table (\n",
    "alpha bigint,\n",
    "beta int,\n",
    "gamma text);\"\"\")"
   ]
  },
  {
   "cell_type": "markdown",
   "metadata": {},
   "source": [
    "#### Using SQL statements\n",
    "\n",
    "This is the basic structure of `INSERT` - we define the table `test_table` that we want to insert data into, the columns `(alpha, beta, gamma)` of that table we want to insert into, and then define the data using `VALUES (1, 2, 'this')`.\n"
   ]
  },
  {
   "cell_type": "code",
   "execution_count": 12,
   "metadata": {},
   "outputs": [
    {
     "data": {
      "text/plain": [
       "<sqlalchemy.engine.result.ResultProxy at 0x1153d8f98>"
      ]
     },
     "execution_count": 12,
     "metadata": {},
     "output_type": "execute_result"
    }
   ],
   "source": [
    "insert_some_data = \"\"\"\n",
    "INSERT INTO test_table (alpha, beta, gamma)\n",
    "VALUES (1, 2, 'this');\n",
    "\"\"\"\n",
    "engine.execute(insert_some_data)"
   ]
  },
  {
   "cell_type": "code",
   "execution_count": 13,
   "metadata": {},
   "outputs": [
    {
     "data": {
      "text/plain": [
       "[(1, 2, 'this')]"
      ]
     },
     "execution_count": 13,
     "metadata": {},
     "output_type": "execute_result"
    }
   ],
   "source": [
    "engine.execute(\"SELECT * FROM test_table;\").fetchall()"
   ]
  },
  {
   "cell_type": "markdown",
   "metadata": {},
   "source": [
    "If we want to enter more than a single row, we simply add another tuple after `VALUES`"
   ]
  },
  {
   "cell_type": "code",
   "execution_count": 14,
   "metadata": {},
   "outputs": [
    {
     "data": {
      "text/plain": [
       "[(1, 2, 'this'), (1, 2, 'row1'), (3, 4, 'row2'), (6, 5, 'row3')]"
      ]
     },
     "execution_count": 14,
     "metadata": {},
     "output_type": "execute_result"
    }
   ],
   "source": [
    "insert_more_data = \"\"\"\n",
    "INSERT INTO test_table (alpha, beta, gamma)\n",
    "VALUES \n",
    "(1, 2, 'row1'),\n",
    "(3, 4, 'row2'),\n",
    "(6, 5, 'row3');\n",
    "\"\"\"\n",
    "engine.execute(insert_more_data)\n",
    "engine.execute(\"SELECT * FROM test_table;\").fetchall()"
   ]
  },
  {
   "cell_type": "markdown",
   "metadata": {},
   "source": [
    "Let's experiment with missing values. The missing value in Postgres is `NULL` however it's `None` in python.\n",
    "\n",
    "So if we are passing a null value to Postgres from Python, we need to keep in mind that `None` needs to be `NULL` in the SQL statement. When we retrieve the values, it is `None` in python "
   ]
  },
  {
   "cell_type": "code",
   "execution_count": 15,
   "metadata": {},
   "outputs": [
    {
     "name": "stdout",
     "output_type": "stream",
     "text": [
      "Can't insert None\n",
      "Successfully inserted NULL\n"
     ]
    }
   ],
   "source": [
    "insert_test_one = \"\"\"\n",
    "INSERT INTO test_table (alpha, beta, gamma)\n",
    "VALUES\n",
    "(10, 10, None);\"\"\"\n",
    "\n",
    "try:\n",
    "    engine.execute(insert_test_one)\n",
    "    print(\"Successfully inserted None\")\n",
    "except:\n",
    "    print(\"Can't insert None\")\n",
    "    \n",
    "insert_test_two = \"\"\"\n",
    "INSERT INTO test_table (alpha, beta, gamma)\n",
    "VALUES\n",
    "(10, 10, NULL);\"\"\"\n",
    "\n",
    "try:\n",
    "    engine.execute(insert_test_two)\n",
    "    print(\"Successfully inserted NULL\")    \n",
    "except:\n",
    "    print(\"Can't insert NULL\")\n",
    "    \n"
   ]
  },
  {
   "cell_type": "code",
   "execution_count": 16,
   "metadata": {},
   "outputs": [
    {
     "data": {
      "text/plain": [
       "[(1, 2, 'this'),\n",
       " (1, 2, 'row1'),\n",
       " (3, 4, 'row2'),\n",
       " (6, 5, 'row3'),\n",
       " (10, 10, None)]"
      ]
     },
     "execution_count": 16,
     "metadata": {},
     "output_type": "execute_result"
    }
   ],
   "source": [
    "engine.execute(\"SELECT * FROM test_table;\").fetchall()"
   ]
  },
  {
   "cell_type": "markdown",
   "metadata": {},
   "source": [
    "Let's also experiment with defining different column names. If we omit the column names, what happens? Well according to the documentation, the implied columns are the column names in their declared order, so we would expect our value tuple to pass the first value into the `alpha` column, second value into `beta` etc."
   ]
  },
  {
   "cell_type": "code",
   "execution_count": 17,
   "metadata": {},
   "outputs": [
    {
     "data": {
      "text/plain": [
       "[(1, 2, 'this'),\n",
       " (1, 2, 'row1'),\n",
       " (3, 4, 'row2'),\n",
       " (6, 5, 'row3'),\n",
       " (10, 10, None),\n",
       " (12, 12, 'no_col')]"
      ]
     },
     "execution_count": 17,
     "metadata": {},
     "output_type": "execute_result"
    }
   ],
   "source": [
    "engine.execute(\"\"\"\n",
    "INSERT INTO test_table\n",
    "VALUES (12,12,'no_col');\n",
    "\"\"\")\n",
    "\n",
    "engine.execute(\"SELECT * FROM test_table;\").fetchall()"
   ]
  },
  {
   "cell_type": "markdown",
   "metadata": {},
   "source": [
    "Great, works as expected. Now what happens if we define a value tuple that is smaller than the number of columns? The documentation says that columns (explicit or implied - written after `test_table` or not) not supplied (by a value in the tuple) will be filled by the default value specified for that column. If no default value is specified then it will fill with Null which what we see here. Note that the default value for a column is specified during the `CREATE TABLE` statement"
   ]
  },
  {
   "cell_type": "code",
   "execution_count": 18,
   "metadata": {},
   "outputs": [
    {
     "data": {
      "text/plain": [
       "[(1, 2, 'this'),\n",
       " (1, 2, 'row1'),\n",
       " (3, 4, 'row2'),\n",
       " (6, 5, 'row3'),\n",
       " (10, 10, None),\n",
       " (12, 12, 'no_col'),\n",
       " (12, 12, None)]"
      ]
     },
     "execution_count": 18,
     "metadata": {},
     "output_type": "execute_result"
    }
   ],
   "source": [
    "engine.execute(\"\"\"\n",
    "INSERT INTO test_table\n",
    "VALUES (12, 12);\n",
    "\"\"\")\n",
    "\n",
    "engine.execute(\"SELECT * FROM test_table;\").fetchall()"
   ]
  },
  {
   "cell_type": "markdown",
   "metadata": {},
   "source": [
    "Finally, le'ts see what happens when we pass in different values. The below example fails, as one would expect"
   ]
  },
  {
   "cell_type": "code",
   "execution_count": 19,
   "metadata": {},
   "outputs": [
    {
     "name": "stdout",
     "output_type": "stream",
     "text": [
      "Can't insert this value\n"
     ]
    }
   ],
   "source": [
    "try:\n",
    "    engine.execute(\"\"\"\n",
    "    INSERT INTO test_table\n",
    "    VALUES ('text','12', 'this value');\n",
    "    \"\"\")\n",
    "    engine.execute(\"SELECT * FROM test_table;\").fetchall()\n",
    "except:\n",
    "    print(\"Can't insert this value\")"
   ]
  },
  {
   "cell_type": "markdown",
   "metadata": {},
   "source": [
    "However this example doesn't, it seems like Postgres attempts to coerce the tuple to the correct data type."
   ]
  },
  {
   "cell_type": "code",
   "execution_count": 20,
   "metadata": {},
   "outputs": [
    {
     "data": {
      "text/plain": [
       "[(1, 2, 'this'),\n",
       " (1, 2, 'row1'),\n",
       " (3, 4, 'row2'),\n",
       " (6, 5, 'row3'),\n",
       " (10, 10, None),\n",
       " (12, 12, 'no_col'),\n",
       " (12, 12, None),\n",
       " (1, 12, 'this second value')]"
      ]
     },
     "execution_count": 20,
     "metadata": {},
     "output_type": "execute_result"
    }
   ],
   "source": [
    "engine.execute(\"\"\"\n",
    "INSERT INTO test_table\n",
    "VALUES (1, '12', 'this second value');\"\"\")\n",
    "\n",
    "engine.execute(\"SELECT * FROM test_table;\").fetchall()"
   ]
  },
  {
   "cell_type": "markdown",
   "metadata": {},
   "source": [
    "#### SQL statements from dataframe\n",
    "\n",
    "How would we use the SQL statement to insert data that is in a dataframe? A rudimentary approach is to loop over the dataframe, formatting an SQL statement that will insert the data as we progress through the loop"
   ]
  },
  {
   "cell_type": "code",
   "execution_count": 75,
   "metadata": {},
   "outputs": [],
   "source": [
    "# create a sample df\n",
    "alpha = np.random.normal(loc=50, scale=20, size=100)\n",
    "beta = np.random.uniform(low=0, high=1, size=100)\n",
    "gamma = np.random.wald(mean=25, scale=10, size=100)\n",
    "\n",
    "data = {'alpha':alpha,\n",
    "       'beta':beta,\n",
    "       'gamma':gamma}\n",
    "\n",
    "df = pd.DataFrame(data)"
   ]
  },
  {
   "cell_type": "code",
   "execution_count": 76,
   "metadata": {},
   "outputs": [],
   "source": [
    "# insert the values\n",
    "for index, row in df.loc[0:2,].iterrows():\n",
    "    engine.execute(\"\"\"INSERT INTO test_table\n",
    "    VALUES ({}, {}, {});\"\"\".format(row['alpha'], row['beta'], row['gamma']))"
   ]
  },
  {
   "cell_type": "code",
   "execution_count": 77,
   "metadata": {},
   "outputs": [
    {
     "data": {
      "text/plain": [
       "9"
      ]
     },
     "execution_count": 77,
     "metadata": {},
     "output_type": "execute_result"
    }
   ],
   "source": [
    "len(engine.execute(\"SELECT * FROM test_table;\").fetchall()) # data was successfully added"
   ]
  },
  {
   "cell_type": "code",
   "execution_count": 78,
   "metadata": {},
   "outputs": [
    {
     "data": {
      "text/plain": [
       "<sqlalchemy.engine.result.ResultProxy at 0x1158d6278>"
      ]
     },
     "execution_count": 78,
     "metadata": {},
     "output_type": "execute_result"
    }
   ],
   "source": [
    "# we'll address this later on, but cleaning up the table to make it easier to work with\n",
    "engine.execute(\"DELETE FROM test_table;\") "
   ]
  },
  {
   "cell_type": "markdown",
   "metadata": {},
   "source": [
    "Another way is to use a parameterized query, where we use `%s` operators as placeholders. Then we pass a tuple of values as an argument to the execute() function. The result is that the values in the tuple are inserted into the query statement"
   ]
  },
  {
   "cell_type": "code",
   "execution_count": 79,
   "metadata": {},
   "outputs": [
    {
     "data": {
      "text/plain": [
       "[(1, 2, 'test')]"
      ]
     },
     "execution_count": 79,
     "metadata": {},
     "output_type": "execute_result"
    }
   ],
   "source": [
    "value_tuple = (1, 2, \"test\")\n",
    "\n",
    "engine.execute(\"\"\"\n",
    "INSERT INTO test_table\n",
    "VALUES (%s, %s, %s);\"\"\", value_tuple)\n",
    "\n",
    "engine.execute(\"\"\"\n",
    "SELECT * FROM test_table;\"\"\").fetchall()"
   ]
  },
  {
   "cell_type": "markdown",
   "metadata": {},
   "source": [
    "Let's try this with a list of tuples"
   ]
  },
  {
   "cell_type": "code",
   "execution_count": 80,
   "metadata": {},
   "outputs": [
    {
     "data": {
      "text/plain": [
       "[(1, 2, 'test'), (1, 2, 'second'), (3, 4, 'third')]"
      ]
     },
     "execution_count": 80,
     "metadata": {},
     "output_type": "execute_result"
    }
   ],
   "source": [
    "values_tuple_list = [(1,2,'second'),\n",
    "                    (3, 4, 'third')]\n",
    "\n",
    "engine.execute(\"\"\"INSERT INTO test_table VALUES (%s, %s, %s);\"\"\", values_tuple_list)\n",
    "\n",
    "engine.execute(\"\"\"SELECT * FROM test_table;\"\"\").fetchall()"
   ]
  },
  {
   "cell_type": "markdown",
   "metadata": {},
   "source": [
    "Great, that works beautifully. If we convert our dataframe to a list of tuples, we should be able to use this approach"
   ]
  },
  {
   "cell_type": "code",
   "execution_count": 83,
   "metadata": {},
   "outputs": [],
   "source": [
    "value_tuple_list = list(df.itertuples(index=False))"
   ]
  },
  {
   "cell_type": "code",
   "execution_count": 84,
   "metadata": {},
   "outputs": [
    {
     "data": {
      "text/plain": [
       "[(1, 2, 'test'),\n",
       " (1, 2, 'second'),\n",
       " (3, 4, 'third'),\n",
       " (66, 0, '4.936065031893158'),\n",
       " (54, 0, '87.82269591642915'),\n",
       " (26, 1, '43.89690269150002'),\n",
       " (24, 0, '8.479785634961758'),\n",
       " (71, 1, '24.70559751374415'),\n",
       " (37, 1, '54.41480727753379'),\n",
       " (36, 1, '7.7457648294183805')]"
      ]
     },
     "execution_count": 84,
     "metadata": {},
     "output_type": "execute_result"
    }
   ],
   "source": [
    "engine.execute(\"\"\"INSERT INTO test_table VALUES (%s, %s, %s);\"\"\", value_tuple_list)\n",
    "engine.execute(\"\"\"SELECT * FROM test_table LIMIT 10;\"\"\").fetchall()"
   ]
  },
  {
   "cell_type": "markdown",
   "metadata": {},
   "source": [
    "#### Insert using Pandas\n",
    "\n",
    "Pandas also offers the ability to interact with a database using `to_sql` and `read_sql` which can make moving data between flat files --> pandas --> db and db --> pandas --> plots very easy"
   ]
  },
  {
   "cell_type": "code",
   "execution_count": 93,
   "metadata": {},
   "outputs": [
    {
     "data": {
      "text/html": [
       "<div>\n",
       "<style scoped>\n",
       "    .dataframe tbody tr th:only-of-type {\n",
       "        vertical-align: middle;\n",
       "    }\n",
       "\n",
       "    .dataframe tbody tr th {\n",
       "        vertical-align: top;\n",
       "    }\n",
       "\n",
       "    .dataframe thead th {\n",
       "        text-align: right;\n",
       "    }\n",
       "</style>\n",
       "<table border=\"1\" class=\"dataframe\">\n",
       "  <thead>\n",
       "    <tr style=\"text-align: right;\">\n",
       "      <th></th>\n",
       "      <th>alpha</th>\n",
       "      <th>beta</th>\n",
       "      <th>gamma</th>\n",
       "    </tr>\n",
       "  </thead>\n",
       "  <tbody>\n",
       "    <tr>\n",
       "      <th>0</th>\n",
       "      <td>1</td>\n",
       "      <td>2</td>\n",
       "      <td>test</td>\n",
       "    </tr>\n",
       "    <tr>\n",
       "      <th>1</th>\n",
       "      <td>1</td>\n",
       "      <td>2</td>\n",
       "      <td>second</td>\n",
       "    </tr>\n",
       "    <tr>\n",
       "      <th>2</th>\n",
       "      <td>3</td>\n",
       "      <td>4</td>\n",
       "      <td>third</td>\n",
       "    </tr>\n",
       "    <tr>\n",
       "      <th>3</th>\n",
       "      <td>66</td>\n",
       "      <td>0</td>\n",
       "      <td>4.936065031893158</td>\n",
       "    </tr>\n",
       "    <tr>\n",
       "      <th>4</th>\n",
       "      <td>54</td>\n",
       "      <td>0</td>\n",
       "      <td>87.82269591642915</td>\n",
       "    </tr>\n",
       "    <tr>\n",
       "      <th>5</th>\n",
       "      <td>26</td>\n",
       "      <td>1</td>\n",
       "      <td>43.89690269150002</td>\n",
       "    </tr>\n",
       "    <tr>\n",
       "      <th>6</th>\n",
       "      <td>24</td>\n",
       "      <td>0</td>\n",
       "      <td>8.479785634961758</td>\n",
       "    </tr>\n",
       "    <tr>\n",
       "      <th>7</th>\n",
       "      <td>71</td>\n",
       "      <td>1</td>\n",
       "      <td>24.70559751374415</td>\n",
       "    </tr>\n",
       "    <tr>\n",
       "      <th>8</th>\n",
       "      <td>37</td>\n",
       "      <td>1</td>\n",
       "      <td>54.41480727753379</td>\n",
       "    </tr>\n",
       "    <tr>\n",
       "      <th>9</th>\n",
       "      <td>36</td>\n",
       "      <td>1</td>\n",
       "      <td>7.7457648294183805</td>\n",
       "    </tr>\n",
       "  </tbody>\n",
       "</table>\n",
       "</div>"
      ],
      "text/plain": [
       "   alpha  beta               gamma\n",
       "0      1     2                test\n",
       "1      1     2              second\n",
       "2      3     4               third\n",
       "3     66     0   4.936065031893158\n",
       "4     54     0   87.82269591642915\n",
       "5     26     1   43.89690269150002\n",
       "6     24     0   8.479785634961758\n",
       "7     71     1   24.70559751374415\n",
       "8     37     1   54.41480727753379\n",
       "9     36     1  7.7457648294183805"
      ]
     },
     "execution_count": 93,
     "metadata": {},
     "output_type": "execute_result"
    }
   ],
   "source": [
    "pd.read_sql('SELECT * FROM test_table LIMIT 10;', con = engine)"
   ]
  },
  {
   "cell_type": "code",
   "execution_count": 85,
   "metadata": {},
   "outputs": [],
   "source": [
    "with engine.connect() as conn:\n",
    "    df.to_sql('test_table', con=conn, if_exists='append', index=False)"
   ]
  },
  {
   "cell_type": "code",
   "execution_count": 86,
   "metadata": {},
   "outputs": [
    {
     "data": {
      "text/html": [
       "<div>\n",
       "<style scoped>\n",
       "    .dataframe tbody tr th:only-of-type {\n",
       "        vertical-align: middle;\n",
       "    }\n",
       "\n",
       "    .dataframe tbody tr th {\n",
       "        vertical-align: top;\n",
       "    }\n",
       "\n",
       "    .dataframe thead th {\n",
       "        text-align: right;\n",
       "    }\n",
       "</style>\n",
       "<table border=\"1\" class=\"dataframe\">\n",
       "  <thead>\n",
       "    <tr style=\"text-align: right;\">\n",
       "      <th></th>\n",
       "      <th>column_name</th>\n",
       "      <th>data_type</th>\n",
       "      <th>character_maximum_length</th>\n",
       "    </tr>\n",
       "  </thead>\n",
       "  <tbody>\n",
       "    <tr>\n",
       "      <th>0</th>\n",
       "      <td>alpha</td>\n",
       "      <td>bigint</td>\n",
       "      <td>None</td>\n",
       "    </tr>\n",
       "    <tr>\n",
       "      <th>1</th>\n",
       "      <td>beta</td>\n",
       "      <td>integer</td>\n",
       "      <td>None</td>\n",
       "    </tr>\n",
       "    <tr>\n",
       "      <th>2</th>\n",
       "      <td>gamma</td>\n",
       "      <td>text</td>\n",
       "      <td>None</td>\n",
       "    </tr>\n",
       "  </tbody>\n",
       "</table>\n",
       "</div>"
      ],
      "text/plain": [
       "  column_name data_type character_maximum_length\n",
       "0       alpha    bigint                     None\n",
       "1        beta   integer                     None\n",
       "2       gamma      text                     None"
      ]
     },
     "execution_count": 86,
     "metadata": {},
     "output_type": "execute_result"
    }
   ],
   "source": [
    "col_info = \"\"\"SELECT column_name, data_type, character_maximum_length\n",
    "    FROM INFORMATION_SCHEMA.COLUMNS where table_name = 'test_table';\"\"\"\n",
    "\n",
    "with engine.connect() as conn:\n",
    "    res = pd.read_sql(col_info, con = conn)\n",
    "res"
   ]
  },
  {
   "cell_type": "code",
   "execution_count": 24,
   "metadata": {},
   "outputs": [
    {
     "data": {
      "text/plain": [
       "alpha     int64\n",
       "beta      int64\n",
       "gamma    object\n",
       "dtype: object"
      ]
     },
     "execution_count": 24,
     "metadata": {},
     "output_type": "execute_result"
    }
   ],
   "source": [
    "with engine.connect() as conn:\n",
    "    res = pd.read_sql(\"select * from test_table limit 5\", con = conn)\n",
    "res.dtypes"
   ]
  },
  {
   "cell_type": "code",
   "execution_count": 25,
   "metadata": {},
   "outputs": [],
   "source": [
    "# now add new text values\n",
    "alpha = np.random.normal(loc=50, scale=20, size=100)\n",
    "beta_text = np.random.uniform(low=0, high=1, size=100).astype(str)\n",
    "gamma = np.random.wald(mean=25, scale=10, size=100)\n",
    "\n",
    "data = {'alpha':alpha,\n",
    "       'beta':beta_text,\n",
    "       'gamma':gamma}\n",
    "\n",
    "df = pd.DataFrame(data)"
   ]
  },
  {
   "cell_type": "code",
   "execution_count": 26,
   "metadata": {},
   "outputs": [
    {
     "ename": "DataError",
     "evalue": "(psycopg2.DataError) invalid input syntax for integer: \"0.8458343519939661\"\nLINE 1: ...e (alpha, beta, gamma) VALUES (43.21666123723385, '0.8458343...\n                                                             ^\n [SQL: 'INSERT INTO test_table (alpha, beta, gamma) VALUES (%(alpha)s, %(beta)s, %(gamma)s)'] [parameters: ({'alpha': 43.21666123723385, 'beta': '0.8458343519939661', 'gamma': 4.919045837851243}, {'alpha': 42.0928934685868, 'beta': '0.09803323934637231', 'gamma': 4.535407175754884}, {'alpha': 18.034655821333224, 'beta': '0.25012919305514003', 'gamma': 18.361464172281284}, {'alpha': 50.93536942470595, 'beta': '0.618586703466302', 'gamma': 10.526746363084358}, {'alpha': 72.33369603789404, 'beta': '0.0738346496519855', 'gamma': 21.166475412254098}, {'alpha': 46.41056670930328, 'beta': '0.6741765914178779', 'gamma': 17.59893937696004}, {'alpha': 35.466527245435174, 'beta': '0.3233499618286837', 'gamma': 22.68236250285856}, {'alpha': 60.40460759497108, 'beta': '0.6201091987494294', 'gamma': 6.579886478704768}  ... displaying 10 of 100 total bound parameter sets ...  {'alpha': 80.74041996971036, 'beta': '0.8542891504434776', 'gamma': 6.566918962970689}, {'alpha': 71.99338009577427, 'beta': '0.21902096080937516', 'gamma': 19.118518301232143})] (Background on this error at: http://sqlalche.me/e/9h9h)",
     "output_type": "error",
     "traceback": [
      "\u001b[0;31m---------------------------------------------------------------------------\u001b[0m",
      "\u001b[0;31mDataError\u001b[0m                                 Traceback (most recent call last)",
      "\u001b[0;32m~/.pyenv/versions/jupyter3/lib/python3.6/site-packages/sqlalchemy/engine/base.py\u001b[0m in \u001b[0;36m_execute_context\u001b[0;34m(self, dialect, constructor, statement, parameters, *args)\u001b[0m\n\u001b[1;32m   1215\u001b[0m                     self.dialect.do_executemany(\n\u001b[0;32m-> 1216\u001b[0;31m                         \u001b[0mcursor\u001b[0m\u001b[0;34m,\u001b[0m \u001b[0mstatement\u001b[0m\u001b[0;34m,\u001b[0m \u001b[0mparameters\u001b[0m\u001b[0;34m,\u001b[0m \u001b[0mcontext\u001b[0m\u001b[0;34m\u001b[0m\u001b[0m\n\u001b[0m\u001b[1;32m   1217\u001b[0m                     )\n",
      "\u001b[0;32m~/.pyenv/versions/jupyter3/lib/python3.6/site-packages/sqlalchemy/dialects/postgresql/psycopg2.py\u001b[0m in \u001b[0;36mdo_executemany\u001b[0;34m(self, cursor, statement, parameters, context)\u001b[0m\n\u001b[1;32m    718\u001b[0m         \u001b[0;32melse\u001b[0m\u001b[0;34m:\u001b[0m\u001b[0;34m\u001b[0m\u001b[0m\n\u001b[0;32m--> 719\u001b[0;31m             \u001b[0mcursor\u001b[0m\u001b[0;34m.\u001b[0m\u001b[0mexecutemany\u001b[0m\u001b[0;34m(\u001b[0m\u001b[0mstatement\u001b[0m\u001b[0;34m,\u001b[0m \u001b[0mparameters\u001b[0m\u001b[0;34m)\u001b[0m\u001b[0;34m\u001b[0m\u001b[0m\n\u001b[0m\u001b[1;32m    720\u001b[0m \u001b[0;34m\u001b[0m\u001b[0m\n",
      "\u001b[0;31mDataError\u001b[0m: invalid input syntax for integer: \"0.8458343519939661\"\nLINE 1: ...e (alpha, beta, gamma) VALUES (43.21666123723385, '0.8458343...\n                                                             ^\n",
      "\nThe above exception was the direct cause of the following exception:\n",
      "\u001b[0;31mDataError\u001b[0m                                 Traceback (most recent call last)",
      "\u001b[0;32m<ipython-input-26-cf292dfa04f9>\u001b[0m in \u001b[0;36m<module>\u001b[0;34m()\u001b[0m\n\u001b[1;32m      1\u001b[0m \u001b[0;31m# append again, note that the column names must line up\u001b[0m\u001b[0;34m\u001b[0m\u001b[0;34m\u001b[0m\u001b[0m\n\u001b[1;32m      2\u001b[0m \u001b[0;32mwith\u001b[0m \u001b[0mengine\u001b[0m\u001b[0;34m.\u001b[0m\u001b[0mconnect\u001b[0m\u001b[0;34m(\u001b[0m\u001b[0;34m)\u001b[0m \u001b[0;32mas\u001b[0m \u001b[0mconn\u001b[0m\u001b[0;34m:\u001b[0m\u001b[0;34m\u001b[0m\u001b[0m\n\u001b[0;32m----> 3\u001b[0;31m     \u001b[0mdf\u001b[0m\u001b[0;34m.\u001b[0m\u001b[0mto_sql\u001b[0m\u001b[0;34m(\u001b[0m\u001b[0;34m'test_table'\u001b[0m\u001b[0;34m,\u001b[0m \u001b[0mcon\u001b[0m\u001b[0;34m=\u001b[0m\u001b[0mconn\u001b[0m\u001b[0;34m,\u001b[0m \u001b[0mif_exists\u001b[0m\u001b[0;34m=\u001b[0m\u001b[0;34m'append'\u001b[0m\u001b[0;34m,\u001b[0m \u001b[0mindex\u001b[0m\u001b[0;34m=\u001b[0m\u001b[0;32mFalse\u001b[0m\u001b[0;34m)\u001b[0m\u001b[0;34m\u001b[0m\u001b[0m\n\u001b[0m",
      "\u001b[0;32m~/.pyenv/versions/jupyter3/lib/python3.6/site-packages/pandas/core/generic.py\u001b[0m in \u001b[0;36mto_sql\u001b[0;34m(self, name, con, flavor, schema, if_exists, index, index_label, chunksize, dtype)\u001b[0m\n\u001b[1;32m   1532\u001b[0m         sql.to_sql(self, name, con, flavor=flavor, schema=schema,\n\u001b[1;32m   1533\u001b[0m                    \u001b[0mif_exists\u001b[0m\u001b[0;34m=\u001b[0m\u001b[0mif_exists\u001b[0m\u001b[0;34m,\u001b[0m \u001b[0mindex\u001b[0m\u001b[0;34m=\u001b[0m\u001b[0mindex\u001b[0m\u001b[0;34m,\u001b[0m \u001b[0mindex_label\u001b[0m\u001b[0;34m=\u001b[0m\u001b[0mindex_label\u001b[0m\u001b[0;34m,\u001b[0m\u001b[0;34m\u001b[0m\u001b[0m\n\u001b[0;32m-> 1534\u001b[0;31m                    chunksize=chunksize, dtype=dtype)\n\u001b[0m\u001b[1;32m   1535\u001b[0m \u001b[0;34m\u001b[0m\u001b[0m\n\u001b[1;32m   1536\u001b[0m     def to_pickle(self, path, compression='infer',\n",
      "\u001b[0;32m~/.pyenv/versions/jupyter3/lib/python3.6/site-packages/pandas/io/sql.py\u001b[0m in \u001b[0;36mto_sql\u001b[0;34m(frame, name, con, flavor, schema, if_exists, index, index_label, chunksize, dtype)\u001b[0m\n\u001b[1;32m    471\u001b[0m     pandas_sql.to_sql(frame, name, if_exists=if_exists, index=index,\n\u001b[1;32m    472\u001b[0m                       \u001b[0mindex_label\u001b[0m\u001b[0;34m=\u001b[0m\u001b[0mindex_label\u001b[0m\u001b[0;34m,\u001b[0m \u001b[0mschema\u001b[0m\u001b[0;34m=\u001b[0m\u001b[0mschema\u001b[0m\u001b[0;34m,\u001b[0m\u001b[0;34m\u001b[0m\u001b[0m\n\u001b[0;32m--> 473\u001b[0;31m                       chunksize=chunksize, dtype=dtype)\n\u001b[0m\u001b[1;32m    474\u001b[0m \u001b[0;34m\u001b[0m\u001b[0m\n\u001b[1;32m    475\u001b[0m \u001b[0;34m\u001b[0m\u001b[0m\n",
      "\u001b[0;32m~/.pyenv/versions/jupyter3/lib/python3.6/site-packages/pandas/io/sql.py\u001b[0m in \u001b[0;36mto_sql\u001b[0;34m(self, frame, name, if_exists, index, index_label, schema, chunksize, dtype)\u001b[0m\n\u001b[1;32m   1154\u001b[0m                          schema=schema, dtype=dtype)\n\u001b[1;32m   1155\u001b[0m         \u001b[0mtable\u001b[0m\u001b[0;34m.\u001b[0m\u001b[0mcreate\u001b[0m\u001b[0;34m(\u001b[0m\u001b[0;34m)\u001b[0m\u001b[0;34m\u001b[0m\u001b[0m\n\u001b[0;32m-> 1156\u001b[0;31m         \u001b[0mtable\u001b[0m\u001b[0;34m.\u001b[0m\u001b[0minsert\u001b[0m\u001b[0;34m(\u001b[0m\u001b[0mchunksize\u001b[0m\u001b[0;34m)\u001b[0m\u001b[0;34m\u001b[0m\u001b[0m\n\u001b[0m\u001b[1;32m   1157\u001b[0m         \u001b[0;32mif\u001b[0m \u001b[0;34m(\u001b[0m\u001b[0;32mnot\u001b[0m \u001b[0mname\u001b[0m\u001b[0;34m.\u001b[0m\u001b[0misdigit\u001b[0m\u001b[0;34m(\u001b[0m\u001b[0;34m)\u001b[0m \u001b[0;32mand\u001b[0m \u001b[0;32mnot\u001b[0m \u001b[0mname\u001b[0m\u001b[0;34m.\u001b[0m\u001b[0mislower\u001b[0m\u001b[0;34m(\u001b[0m\u001b[0;34m)\u001b[0m\u001b[0;34m)\u001b[0m\u001b[0;34m:\u001b[0m\u001b[0;34m\u001b[0m\u001b[0m\n\u001b[1;32m   1158\u001b[0m             \u001b[0;31m# check for potentially case sensitivity issues (GH7815)\u001b[0m\u001b[0;34m\u001b[0m\u001b[0;34m\u001b[0m\u001b[0m\n",
      "\u001b[0;32m~/.pyenv/versions/jupyter3/lib/python3.6/site-packages/pandas/io/sql.py\u001b[0m in \u001b[0;36minsert\u001b[0;34m(self, chunksize)\u001b[0m\n\u001b[1;32m    668\u001b[0m \u001b[0;34m\u001b[0m\u001b[0m\n\u001b[1;32m    669\u001b[0m                 \u001b[0mchunk_iter\u001b[0m \u001b[0;34m=\u001b[0m \u001b[0mzip\u001b[0m\u001b[0;34m(\u001b[0m\u001b[0;34m*\u001b[0m\u001b[0;34m[\u001b[0m\u001b[0marr\u001b[0m\u001b[0;34m[\u001b[0m\u001b[0mstart_i\u001b[0m\u001b[0;34m:\u001b[0m\u001b[0mend_i\u001b[0m\u001b[0;34m]\u001b[0m \u001b[0;32mfor\u001b[0m \u001b[0marr\u001b[0m \u001b[0;32min\u001b[0m \u001b[0mdata_list\u001b[0m\u001b[0;34m]\u001b[0m\u001b[0;34m)\u001b[0m\u001b[0;34m\u001b[0m\u001b[0m\n\u001b[0;32m--> 670\u001b[0;31m                 \u001b[0mself\u001b[0m\u001b[0;34m.\u001b[0m\u001b[0m_execute_insert\u001b[0m\u001b[0;34m(\u001b[0m\u001b[0mconn\u001b[0m\u001b[0;34m,\u001b[0m \u001b[0mkeys\u001b[0m\u001b[0;34m,\u001b[0m \u001b[0mchunk_iter\u001b[0m\u001b[0;34m)\u001b[0m\u001b[0;34m\u001b[0m\u001b[0m\n\u001b[0m\u001b[1;32m    671\u001b[0m \u001b[0;34m\u001b[0m\u001b[0m\n\u001b[1;32m    672\u001b[0m     def _query_iterator(self, result, chunksize, columns, coerce_float=True,\n",
      "\u001b[0;32m~/.pyenv/versions/jupyter3/lib/python3.6/site-packages/pandas/io/sql.py\u001b[0m in \u001b[0;36m_execute_insert\u001b[0;34m(self, conn, keys, data_iter)\u001b[0m\n\u001b[1;32m    643\u001b[0m     \u001b[0;32mdef\u001b[0m \u001b[0m_execute_insert\u001b[0m\u001b[0;34m(\u001b[0m\u001b[0mself\u001b[0m\u001b[0;34m,\u001b[0m \u001b[0mconn\u001b[0m\u001b[0;34m,\u001b[0m \u001b[0mkeys\u001b[0m\u001b[0;34m,\u001b[0m \u001b[0mdata_iter\u001b[0m\u001b[0;34m)\u001b[0m\u001b[0;34m:\u001b[0m\u001b[0;34m\u001b[0m\u001b[0m\n\u001b[1;32m    644\u001b[0m         \u001b[0mdata\u001b[0m \u001b[0;34m=\u001b[0m \u001b[0;34m[\u001b[0m\u001b[0mdict\u001b[0m\u001b[0;34m(\u001b[0m\u001b[0;34m(\u001b[0m\u001b[0mk\u001b[0m\u001b[0;34m,\u001b[0m \u001b[0mv\u001b[0m\u001b[0;34m)\u001b[0m \u001b[0;32mfor\u001b[0m \u001b[0mk\u001b[0m\u001b[0;34m,\u001b[0m \u001b[0mv\u001b[0m \u001b[0;32min\u001b[0m \u001b[0mzip\u001b[0m\u001b[0;34m(\u001b[0m\u001b[0mkeys\u001b[0m\u001b[0;34m,\u001b[0m \u001b[0mrow\u001b[0m\u001b[0;34m)\u001b[0m\u001b[0;34m)\u001b[0m \u001b[0;32mfor\u001b[0m \u001b[0mrow\u001b[0m \u001b[0;32min\u001b[0m \u001b[0mdata_iter\u001b[0m\u001b[0;34m]\u001b[0m\u001b[0;34m\u001b[0m\u001b[0m\n\u001b[0;32m--> 645\u001b[0;31m         \u001b[0mconn\u001b[0m\u001b[0;34m.\u001b[0m\u001b[0mexecute\u001b[0m\u001b[0;34m(\u001b[0m\u001b[0mself\u001b[0m\u001b[0;34m.\u001b[0m\u001b[0minsert_statement\u001b[0m\u001b[0;34m(\u001b[0m\u001b[0;34m)\u001b[0m\u001b[0;34m,\u001b[0m \u001b[0mdata\u001b[0m\u001b[0;34m)\u001b[0m\u001b[0;34m\u001b[0m\u001b[0m\n\u001b[0m\u001b[1;32m    646\u001b[0m \u001b[0;34m\u001b[0m\u001b[0m\n\u001b[1;32m    647\u001b[0m     \u001b[0;32mdef\u001b[0m \u001b[0minsert\u001b[0m\u001b[0;34m(\u001b[0m\u001b[0mself\u001b[0m\u001b[0;34m,\u001b[0m \u001b[0mchunksize\u001b[0m\u001b[0;34m=\u001b[0m\u001b[0;32mNone\u001b[0m\u001b[0;34m)\u001b[0m\u001b[0;34m:\u001b[0m\u001b[0;34m\u001b[0m\u001b[0m\n",
      "\u001b[0;32m~/.pyenv/versions/jupyter3/lib/python3.6/site-packages/sqlalchemy/engine/base.py\u001b[0m in \u001b[0;36mexecute\u001b[0;34m(self, object_, *multiparams, **params)\u001b[0m\n\u001b[1;32m    978\u001b[0m             \u001b[0;32mraise\u001b[0m \u001b[0mexc\u001b[0m\u001b[0;34m.\u001b[0m\u001b[0mObjectNotExecutableError\u001b[0m\u001b[0;34m(\u001b[0m\u001b[0mobject_\u001b[0m\u001b[0;34m)\u001b[0m\u001b[0;34m\u001b[0m\u001b[0m\n\u001b[1;32m    979\u001b[0m         \u001b[0;32melse\u001b[0m\u001b[0;34m:\u001b[0m\u001b[0;34m\u001b[0m\u001b[0m\n\u001b[0;32m--> 980\u001b[0;31m             \u001b[0;32mreturn\u001b[0m \u001b[0mmeth\u001b[0m\u001b[0;34m(\u001b[0m\u001b[0mself\u001b[0m\u001b[0;34m,\u001b[0m \u001b[0mmultiparams\u001b[0m\u001b[0;34m,\u001b[0m \u001b[0mparams\u001b[0m\u001b[0;34m)\u001b[0m\u001b[0;34m\u001b[0m\u001b[0m\n\u001b[0m\u001b[1;32m    981\u001b[0m \u001b[0;34m\u001b[0m\u001b[0m\n\u001b[1;32m    982\u001b[0m     \u001b[0;32mdef\u001b[0m \u001b[0m_execute_function\u001b[0m\u001b[0;34m(\u001b[0m\u001b[0mself\u001b[0m\u001b[0;34m,\u001b[0m \u001b[0mfunc\u001b[0m\u001b[0;34m,\u001b[0m \u001b[0mmultiparams\u001b[0m\u001b[0;34m,\u001b[0m \u001b[0mparams\u001b[0m\u001b[0;34m)\u001b[0m\u001b[0;34m:\u001b[0m\u001b[0;34m\u001b[0m\u001b[0m\n",
      "\u001b[0;32m~/.pyenv/versions/jupyter3/lib/python3.6/site-packages/sqlalchemy/sql/elements.py\u001b[0m in \u001b[0;36m_execute_on_connection\u001b[0;34m(self, connection, multiparams, params)\u001b[0m\n\u001b[1;32m    271\u001b[0m     \u001b[0;32mdef\u001b[0m \u001b[0m_execute_on_connection\u001b[0m\u001b[0;34m(\u001b[0m\u001b[0mself\u001b[0m\u001b[0;34m,\u001b[0m \u001b[0mconnection\u001b[0m\u001b[0;34m,\u001b[0m \u001b[0mmultiparams\u001b[0m\u001b[0;34m,\u001b[0m \u001b[0mparams\u001b[0m\u001b[0;34m)\u001b[0m\u001b[0;34m:\u001b[0m\u001b[0;34m\u001b[0m\u001b[0m\n\u001b[1;32m    272\u001b[0m         \u001b[0;32mif\u001b[0m \u001b[0mself\u001b[0m\u001b[0;34m.\u001b[0m\u001b[0msupports_execution\u001b[0m\u001b[0;34m:\u001b[0m\u001b[0;34m\u001b[0m\u001b[0m\n\u001b[0;32m--> 273\u001b[0;31m             \u001b[0;32mreturn\u001b[0m \u001b[0mconnection\u001b[0m\u001b[0;34m.\u001b[0m\u001b[0m_execute_clauseelement\u001b[0m\u001b[0;34m(\u001b[0m\u001b[0mself\u001b[0m\u001b[0;34m,\u001b[0m \u001b[0mmultiparams\u001b[0m\u001b[0;34m,\u001b[0m \u001b[0mparams\u001b[0m\u001b[0;34m)\u001b[0m\u001b[0;34m\u001b[0m\u001b[0m\n\u001b[0m\u001b[1;32m    274\u001b[0m         \u001b[0;32melse\u001b[0m\u001b[0;34m:\u001b[0m\u001b[0;34m\u001b[0m\u001b[0m\n\u001b[1;32m    275\u001b[0m             \u001b[0;32mraise\u001b[0m \u001b[0mexc\u001b[0m\u001b[0;34m.\u001b[0m\u001b[0mObjectNotExecutableError\u001b[0m\u001b[0;34m(\u001b[0m\u001b[0mself\u001b[0m\u001b[0;34m)\u001b[0m\u001b[0;34m\u001b[0m\u001b[0m\n",
      "\u001b[0;32m~/.pyenv/versions/jupyter3/lib/python3.6/site-packages/sqlalchemy/engine/base.py\u001b[0m in \u001b[0;36m_execute_clauseelement\u001b[0;34m(self, elem, multiparams, params)\u001b[0m\n\u001b[1;32m   1097\u001b[0m             \u001b[0mdistilled_params\u001b[0m\u001b[0;34m,\u001b[0m\u001b[0;34m\u001b[0m\u001b[0m\n\u001b[1;32m   1098\u001b[0m             \u001b[0mcompiled_sql\u001b[0m\u001b[0;34m,\u001b[0m\u001b[0;34m\u001b[0m\u001b[0m\n\u001b[0;32m-> 1099\u001b[0;31m             \u001b[0mdistilled_params\u001b[0m\u001b[0;34m,\u001b[0m\u001b[0;34m\u001b[0m\u001b[0m\n\u001b[0m\u001b[1;32m   1100\u001b[0m         )\n\u001b[1;32m   1101\u001b[0m         \u001b[0;32mif\u001b[0m \u001b[0mself\u001b[0m\u001b[0;34m.\u001b[0m\u001b[0m_has_events\u001b[0m \u001b[0;32mor\u001b[0m \u001b[0mself\u001b[0m\u001b[0;34m.\u001b[0m\u001b[0mengine\u001b[0m\u001b[0;34m.\u001b[0m\u001b[0m_has_events\u001b[0m\u001b[0;34m:\u001b[0m\u001b[0;34m\u001b[0m\u001b[0m\n",
      "\u001b[0;32m~/.pyenv/versions/jupyter3/lib/python3.6/site-packages/sqlalchemy/engine/base.py\u001b[0m in \u001b[0;36m_execute_context\u001b[0;34m(self, dialect, constructor, statement, parameters, *args)\u001b[0m\n\u001b[1;32m   1238\u001b[0m         \u001b[0;32mexcept\u001b[0m \u001b[0mBaseException\u001b[0m \u001b[0;32mas\u001b[0m \u001b[0me\u001b[0m\u001b[0;34m:\u001b[0m\u001b[0;34m\u001b[0m\u001b[0m\n\u001b[1;32m   1239\u001b[0m             self._handle_dbapi_exception(\n\u001b[0;32m-> 1240\u001b[0;31m                 \u001b[0me\u001b[0m\u001b[0;34m,\u001b[0m \u001b[0mstatement\u001b[0m\u001b[0;34m,\u001b[0m \u001b[0mparameters\u001b[0m\u001b[0;34m,\u001b[0m \u001b[0mcursor\u001b[0m\u001b[0;34m,\u001b[0m \u001b[0mcontext\u001b[0m\u001b[0;34m\u001b[0m\u001b[0m\n\u001b[0m\u001b[1;32m   1241\u001b[0m             )\n\u001b[1;32m   1242\u001b[0m \u001b[0;34m\u001b[0m\u001b[0m\n",
      "\u001b[0;32m~/.pyenv/versions/jupyter3/lib/python3.6/site-packages/sqlalchemy/engine/base.py\u001b[0m in \u001b[0;36m_handle_dbapi_exception\u001b[0;34m(self, e, statement, parameters, cursor, context)\u001b[0m\n\u001b[1;32m   1456\u001b[0m                 \u001b[0mutil\u001b[0m\u001b[0;34m.\u001b[0m\u001b[0mraise_from_cause\u001b[0m\u001b[0;34m(\u001b[0m\u001b[0mnewraise\u001b[0m\u001b[0;34m,\u001b[0m \u001b[0mexc_info\u001b[0m\u001b[0;34m)\u001b[0m\u001b[0;34m\u001b[0m\u001b[0m\n\u001b[1;32m   1457\u001b[0m             \u001b[0;32melif\u001b[0m \u001b[0mshould_wrap\u001b[0m\u001b[0;34m:\u001b[0m\u001b[0;34m\u001b[0m\u001b[0m\n\u001b[0;32m-> 1458\u001b[0;31m                 \u001b[0mutil\u001b[0m\u001b[0;34m.\u001b[0m\u001b[0mraise_from_cause\u001b[0m\u001b[0;34m(\u001b[0m\u001b[0msqlalchemy_exception\u001b[0m\u001b[0;34m,\u001b[0m \u001b[0mexc_info\u001b[0m\u001b[0;34m)\u001b[0m\u001b[0;34m\u001b[0m\u001b[0m\n\u001b[0m\u001b[1;32m   1459\u001b[0m             \u001b[0;32melse\u001b[0m\u001b[0;34m:\u001b[0m\u001b[0;34m\u001b[0m\u001b[0m\n\u001b[1;32m   1460\u001b[0m                 \u001b[0mutil\u001b[0m\u001b[0;34m.\u001b[0m\u001b[0mreraise\u001b[0m\u001b[0;34m(\u001b[0m\u001b[0;34m*\u001b[0m\u001b[0mexc_info\u001b[0m\u001b[0;34m)\u001b[0m\u001b[0;34m\u001b[0m\u001b[0m\n",
      "\u001b[0;32m~/.pyenv/versions/jupyter3/lib/python3.6/site-packages/sqlalchemy/util/compat.py\u001b[0m in \u001b[0;36mraise_from_cause\u001b[0;34m(exception, exc_info)\u001b[0m\n\u001b[1;32m    294\u001b[0m     \u001b[0mexc_type\u001b[0m\u001b[0;34m,\u001b[0m \u001b[0mexc_value\u001b[0m\u001b[0;34m,\u001b[0m \u001b[0mexc_tb\u001b[0m \u001b[0;34m=\u001b[0m \u001b[0mexc_info\u001b[0m\u001b[0;34m\u001b[0m\u001b[0m\n\u001b[1;32m    295\u001b[0m     \u001b[0mcause\u001b[0m \u001b[0;34m=\u001b[0m \u001b[0mexc_value\u001b[0m \u001b[0;32mif\u001b[0m \u001b[0mexc_value\u001b[0m \u001b[0;32mis\u001b[0m \u001b[0;32mnot\u001b[0m \u001b[0mexception\u001b[0m \u001b[0;32melse\u001b[0m \u001b[0;32mNone\u001b[0m\u001b[0;34m\u001b[0m\u001b[0m\n\u001b[0;32m--> 296\u001b[0;31m     \u001b[0mreraise\u001b[0m\u001b[0;34m(\u001b[0m\u001b[0mtype\u001b[0m\u001b[0;34m(\u001b[0m\u001b[0mexception\u001b[0m\u001b[0;34m)\u001b[0m\u001b[0;34m,\u001b[0m \u001b[0mexception\u001b[0m\u001b[0;34m,\u001b[0m \u001b[0mtb\u001b[0m\u001b[0;34m=\u001b[0m\u001b[0mexc_tb\u001b[0m\u001b[0;34m,\u001b[0m \u001b[0mcause\u001b[0m\u001b[0;34m=\u001b[0m\u001b[0mcause\u001b[0m\u001b[0;34m)\u001b[0m\u001b[0;34m\u001b[0m\u001b[0m\n\u001b[0m\u001b[1;32m    297\u001b[0m \u001b[0;34m\u001b[0m\u001b[0m\n\u001b[1;32m    298\u001b[0m \u001b[0;34m\u001b[0m\u001b[0m\n",
      "\u001b[0;32m~/.pyenv/versions/jupyter3/lib/python3.6/site-packages/sqlalchemy/util/compat.py\u001b[0m in \u001b[0;36mreraise\u001b[0;34m(tp, value, tb, cause)\u001b[0m\n\u001b[1;32m    274\u001b[0m             \u001b[0mvalue\u001b[0m\u001b[0;34m.\u001b[0m\u001b[0m__cause__\u001b[0m \u001b[0;34m=\u001b[0m \u001b[0mcause\u001b[0m\u001b[0;34m\u001b[0m\u001b[0m\n\u001b[1;32m    275\u001b[0m         \u001b[0;32mif\u001b[0m \u001b[0mvalue\u001b[0m\u001b[0;34m.\u001b[0m\u001b[0m__traceback__\u001b[0m \u001b[0;32mis\u001b[0m \u001b[0;32mnot\u001b[0m \u001b[0mtb\u001b[0m\u001b[0;34m:\u001b[0m\u001b[0;34m\u001b[0m\u001b[0m\n\u001b[0;32m--> 276\u001b[0;31m             \u001b[0;32mraise\u001b[0m \u001b[0mvalue\u001b[0m\u001b[0;34m.\u001b[0m\u001b[0mwith_traceback\u001b[0m\u001b[0;34m(\u001b[0m\u001b[0mtb\u001b[0m\u001b[0;34m)\u001b[0m\u001b[0;34m\u001b[0m\u001b[0m\n\u001b[0m\u001b[1;32m    277\u001b[0m         \u001b[0;32mraise\u001b[0m \u001b[0mvalue\u001b[0m\u001b[0;34m\u001b[0m\u001b[0m\n\u001b[1;32m    278\u001b[0m \u001b[0;34m\u001b[0m\u001b[0m\n",
      "\u001b[0;32m~/.pyenv/versions/jupyter3/lib/python3.6/site-packages/sqlalchemy/engine/base.py\u001b[0m in \u001b[0;36m_execute_context\u001b[0;34m(self, dialect, constructor, statement, parameters, *args)\u001b[0m\n\u001b[1;32m   1214\u001b[0m                 \u001b[0;32mif\u001b[0m \u001b[0;32mnot\u001b[0m \u001b[0mevt_handled\u001b[0m\u001b[0;34m:\u001b[0m\u001b[0;34m\u001b[0m\u001b[0m\n\u001b[1;32m   1215\u001b[0m                     self.dialect.do_executemany(\n\u001b[0;32m-> 1216\u001b[0;31m                         \u001b[0mcursor\u001b[0m\u001b[0;34m,\u001b[0m \u001b[0mstatement\u001b[0m\u001b[0;34m,\u001b[0m \u001b[0mparameters\u001b[0m\u001b[0;34m,\u001b[0m \u001b[0mcontext\u001b[0m\u001b[0;34m\u001b[0m\u001b[0m\n\u001b[0m\u001b[1;32m   1217\u001b[0m                     )\n\u001b[1;32m   1218\u001b[0m             \u001b[0;32melif\u001b[0m \u001b[0;32mnot\u001b[0m \u001b[0mparameters\u001b[0m \u001b[0;32mand\u001b[0m \u001b[0mcontext\u001b[0m\u001b[0;34m.\u001b[0m\u001b[0mno_parameters\u001b[0m\u001b[0;34m:\u001b[0m\u001b[0;34m\u001b[0m\u001b[0m\n",
      "\u001b[0;32m~/.pyenv/versions/jupyter3/lib/python3.6/site-packages/sqlalchemy/dialects/postgresql/psycopg2.py\u001b[0m in \u001b[0;36mdo_executemany\u001b[0;34m(self, cursor, statement, parameters, context)\u001b[0m\n\u001b[1;32m    717\u001b[0m             \u001b[0mextras\u001b[0m\u001b[0;34m.\u001b[0m\u001b[0mexecute_batch\u001b[0m\u001b[0;34m(\u001b[0m\u001b[0mcursor\u001b[0m\u001b[0;34m,\u001b[0m \u001b[0mstatement\u001b[0m\u001b[0;34m,\u001b[0m \u001b[0mparameters\u001b[0m\u001b[0;34m)\u001b[0m\u001b[0;34m\u001b[0m\u001b[0m\n\u001b[1;32m    718\u001b[0m         \u001b[0;32melse\u001b[0m\u001b[0;34m:\u001b[0m\u001b[0;34m\u001b[0m\u001b[0m\n\u001b[0;32m--> 719\u001b[0;31m             \u001b[0mcursor\u001b[0m\u001b[0;34m.\u001b[0m\u001b[0mexecutemany\u001b[0m\u001b[0;34m(\u001b[0m\u001b[0mstatement\u001b[0m\u001b[0;34m,\u001b[0m \u001b[0mparameters\u001b[0m\u001b[0;34m)\u001b[0m\u001b[0;34m\u001b[0m\u001b[0m\n\u001b[0m\u001b[1;32m    720\u001b[0m \u001b[0;34m\u001b[0m\u001b[0m\n\u001b[1;32m    721\u001b[0m     \u001b[0;34m@\u001b[0m\u001b[0mutil\u001b[0m\u001b[0;34m.\u001b[0m\u001b[0mmemoized_instancemethod\u001b[0m\u001b[0;34m\u001b[0m\u001b[0m\n",
      "\u001b[0;31mDataError\u001b[0m: (psycopg2.DataError) invalid input syntax for integer: \"0.8458343519939661\"\nLINE 1: ...e (alpha, beta, gamma) VALUES (43.21666123723385, '0.8458343...\n                                                             ^\n [SQL: 'INSERT INTO test_table (alpha, beta, gamma) VALUES (%(alpha)s, %(beta)s, %(gamma)s)'] [parameters: ({'alpha': 43.21666123723385, 'beta': '0.8458343519939661', 'gamma': 4.919045837851243}, {'alpha': 42.0928934685868, 'beta': '0.09803323934637231', 'gamma': 4.535407175754884}, {'alpha': 18.034655821333224, 'beta': '0.25012919305514003', 'gamma': 18.361464172281284}, {'alpha': 50.93536942470595, 'beta': '0.618586703466302', 'gamma': 10.526746363084358}, {'alpha': 72.33369603789404, 'beta': '0.0738346496519855', 'gamma': 21.166475412254098}, {'alpha': 46.41056670930328, 'beta': '0.6741765914178779', 'gamma': 17.59893937696004}, {'alpha': 35.466527245435174, 'beta': '0.3233499618286837', 'gamma': 22.68236250285856}, {'alpha': 60.40460759497108, 'beta': '0.6201091987494294', 'gamma': 6.579886478704768}  ... displaying 10 of 100 total bound parameter sets ...  {'alpha': 80.74041996971036, 'beta': '0.8542891504434776', 'gamma': 6.566918962970689}, {'alpha': 71.99338009577427, 'beta': '0.21902096080937516', 'gamma': 19.118518301232143})] (Background on this error at: http://sqlalche.me/e/9h9h)"
     ]
    }
   ],
   "source": [
    "# append again, note that the column names must line up\n",
    "with engine.connect() as conn:\n",
    "    df.to_sql('test_table', con=conn, if_exists='append', index=False)"
   ]
  },
  {
   "cell_type": "markdown",
   "metadata": {},
   "source": [
    "as expected, we couldn't pass in values of text into the database"
   ]
  },
  {
   "cell_type": "code",
   "execution_count": null,
   "metadata": {},
   "outputs": [],
   "source": []
  }
 ],
 "metadata": {
  "kernelspec": {
   "display_name": "Python 3",
   "language": "python",
   "name": "python3"
  },
  "language_info": {
   "codemirror_mode": {
    "name": "ipython",
    "version": 3
   },
   "file_extension": ".py",
   "mimetype": "text/x-python",
   "name": "python",
   "nbconvert_exporter": "python",
   "pygments_lexer": "ipython3",
   "version": "3.6.0"
  }
 },
 "nbformat": 4,
 "nbformat_minor": 2
}
