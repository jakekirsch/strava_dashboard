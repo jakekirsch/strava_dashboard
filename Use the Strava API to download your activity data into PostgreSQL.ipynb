{
 "cells": [
  {
   "cell_type": "markdown",
   "metadata": {},
   "source": [
    "## Background and Motivation\n",
    "\n",
    "For the past few weeks I've been working on learning Python and building a data science toolkit. Until now, this had largely entailed following canned tutorials and working with data that came from flat files downloaded from some online resource.\n",
    "\n",
    "Given that this is not where most data scientists obtain their data, I wanted to do a small project that would require obtaining data using an API, populating a database, and building a dashboard on top of said database. "
   ]
  },
  {
   "cell_type": "code",
   "execution_count": 1,
   "metadata": {},
   "outputs": [
    {
     "name": "stderr",
     "output_type": "stream",
     "text": [
      "/Users/jakekirsch/.pyenv/versions/jupyter3/lib/python3.6/site-packages/psycopg2/__init__.py:144: UserWarning: The psycopg2 wheel package will be renamed from release 2.8; in order to keep installing from binary please use \"pip install psycopg2-binary\" instead. For details see: <http://initd.org/psycopg/docs/install.html#binary-install-from-pypi>.\n",
      "  \"\"\")\n"
     ]
    }
   ],
   "source": [
    "import pandas as pd\n",
    "import numpy as np\n",
    "import requests # used for api calls\n",
    "import json # parse json body\n",
    "from pandas.io.json import json_normalize\n",
    "import psycopg2\n",
    "from sqlalchemy import create_engine\n"
   ]
  },
  {
   "cell_type": "markdown",
   "metadata": {},
   "source": [
    "# strava api\n",
    "\n",
    "After creating a dummy app on strava, you get an assortment of keys that enable you to request information. I stored my keys in a config.py file that is not part of the github repository, however you can see contextually what information I'm pulling from it"
   ]
  },
  {
   "cell_type": "code",
   "execution_count": 2,
   "metadata": {},
   "outputs": [],
   "source": [
    "import config # create a configuration file to hide your API keys"
   ]
  },
  {
   "cell_type": "code",
   "execution_count": 3,
   "metadata": {},
   "outputs": [],
   "source": [
    "# this refreshes your access code - previously created an access code that had greater permissions\n",
    "refresh = {'client_id':config.client_id,\n",
    "          'client_secret':config.client_secret,\n",
    "          'grant_type':'refresh_token',\n",
    "          'refresh_token':config.refresh_token}\n",
    "response = requests.post('https://www.strava.com/oauth/token', params=refresh)"
   ]
  },
  {
   "cell_type": "code",
   "execution_count": 4,
   "metadata": {},
   "outputs": [],
   "source": [
    "# confirm connection\n",
    "access_token = response.json()['access_token']\n",
    "header = {'Authorization': 'Bearer {}'.format(access_token)}"
   ]
  },
  {
   "cell_type": "code",
   "execution_count": 7,
   "metadata": {},
   "outputs": [
    {
     "data": {
      "text/plain": [
       "178.0"
      ]
     },
     "execution_count": 7,
     "metadata": {},
     "output_type": "execute_result"
    }
   ],
   "source": [
    "# update weight to verify other permissions are working\n",
    "d = {\"weight\":\"178\"}\n",
    "resp = requests.put('https://www.strava.com/api/v3/athlete', headers=header, data=d)\n",
    "resp.json()['weight']"
   ]
  },
  {
   "cell_type": "markdown",
   "metadata": {},
   "source": [
    "# postgres"
   ]
  },
  {
   "cell_type": "code",
   "execution_count": 23,
   "metadata": {},
   "outputs": [],
   "source": [
    "# create an engine - run once\n",
    "engine = create_engine('postgresql://jakekirsch:@localhost/jakekirsch')"
   ]
  },
  {
   "cell_type": "code",
   "execution_count": 22,
   "metadata": {},
   "outputs": [],
   "source": [
    "# create table\n",
    "drop_create_table = \"\"\"\n",
    "DROP TABLE IF EXISTS activities;\n",
    "\n",
    "CREATE TABLE activities (\n",
    "achievement_count text,\n",
    "athlete_id text,\n",
    "athlete_resource_state text,\n",
    "athlete_count text,\n",
    "average_cadence float,\n",
    "average_heartrate float,\n",
    "average_speed float,\n",
    "average_temp float,\n",
    "comment_count float,\n",
    "commute boolean,\n",
    "display_hide_heartrate_option boolean,\n",
    "distance float,\n",
    "device_watts text,\n",
    "elapsed_time float,\n",
    "elev_high float,\n",
    "elev_low float,\n",
    "end_latlng text,\n",
    "external_id text,\n",
    "flagged boolean,\n",
    "from_accepted_tag boolean,\n",
    "gear_id text,\n",
    "has_heartrate boolean,\n",
    "has_kudoed boolean,\n",
    "heartrate_opt_out boolean,\n",
    "id bigint PRIMARY KEY,\n",
    "kudos_count text,\n",
    "location_city text,\n",
    "location_country text,\n",
    "location_state text,\n",
    "manual boolean,\n",
    "map_id text,\n",
    "map_resource_state text,\n",
    "map_summary_polyline text,\n",
    "max_heartrate float,\n",
    "max_speed float,\n",
    "moving_time float,\n",
    "name text,\n",
    "photo_count text,\n",
    "pr_count text,\n",
    "private boolean,\n",
    "resource_state text,\n",
    "start_date timestamp,\n",
    "start_date_local timestamp,\n",
    "start_latitude text,\n",
    "start_latlng text,\n",
    "start_longitude text,\n",
    "timezone text,\n",
    "total_elevation_gain float,\n",
    "total_photo_count text,\n",
    "trainer boolean,\n",
    "type text,\n",
    "upload_id text,\n",
    "utc_offset float,\n",
    "visibility text,\n",
    "workout_type text\n",
    ");\"\"\"\n"
   ]
  },
  {
   "cell_type": "code",
   "execution_count": 24,
   "metadata": {},
   "outputs": [
    {
     "data": {
      "text/plain": [
       "<sqlalchemy.engine.result.ResultProxy at 0x1111753c8>"
      ]
     },
     "execution_count": 24,
     "metadata": {},
     "output_type": "execute_result"
    }
   ],
   "source": [
    "# create the table\n",
    "engine.execute(drop_create_table)"
   ]
  },
  {
   "cell_type": "code",
   "execution_count": 25,
   "metadata": {},
   "outputs": [],
   "source": [
    "# get stats\n",
    "param = {\"page\":1,\n",
    "        \"per_page\":35}\n",
    "athlete_id = config.athlete_id\n",
    "athlete_stats = requests.get('https://www.strava.com/api/v3/athletes/{}/stats'.format(athlete_id), \n",
    "                             headers = header)"
   ]
  },
  {
   "cell_type": "code",
   "execution_count": 26,
   "metadata": {},
   "outputs": [],
   "source": [
    "# total count of activities\n",
    "total_activities = sum([athlete_stats.json()['all_ride_totals']['count'], \n",
    "                        athlete_stats.json()['all_run_totals']['count'], \n",
    "                        athlete_stats.json()['all_swim_totals']['count']])"
   ]
  },
  {
   "cell_type": "code",
   "execution_count": 27,
   "metadata": {},
   "outputs": [
    {
     "data": {
      "text/plain": [
       "4.2"
      ]
     },
     "execution_count": 27,
     "metadata": {},
     "output_type": "execute_result"
    }
   ],
   "source": [
    "# params for api calls - we'll split this into pages because there is a limit to the per_page request\n",
    "per_page = 100\n",
    "(total_activities / per_page) + 1"
   ]
  },
  {
   "cell_type": "code",
   "execution_count": 28,
   "metadata": {},
   "outputs": [],
   "source": [
    "for page in np.arange(1, (total_activities / per_page) + 2, 1):\n",
    "    activities = requests.get('https://www.strava.com/api/v3/athlete/activities', headers = header, \n",
    "                                 params = {\n",
    "                                     'page': page,\n",
    "                                     'per_page':per_page\n",
    "                                 })\n",
    "    activities_df = json_normalize(activities.json(),  sep=\"_\")\n",
    "    activities_df.to_sql('activities', con=engine, if_exists=\"append\", index=False)\n",
    "    "
   ]
  },
  {
   "cell_type": "code",
   "execution_count": 29,
   "metadata": {},
   "outputs": [],
   "source": [
    "test = pd.read_sql_table('activities', con=engine)"
   ]
  },
  {
   "cell_type": "markdown",
   "metadata": {},
   "source": [
    "This was a simple example of pulling data down from an API and using some awesome tools to populate a database."
   ]
  },
  {
   "cell_type": "code",
   "execution_count": null,
   "metadata": {},
   "outputs": [],
   "source": []
  }
 ],
 "metadata": {
  "kernelspec": {
   "display_name": "Python 3",
   "language": "python",
   "name": "python3"
  },
  "language_info": {
   "codemirror_mode": {
    "name": "ipython",
    "version": 3
   },
   "file_extension": ".py",
   "mimetype": "text/x-python",
   "name": "python",
   "nbconvert_exporter": "python",
   "pygments_lexer": "ipython3",
   "version": "3.6.0"
  }
 },
 "nbformat": 4,
 "nbformat_minor": 2
}
