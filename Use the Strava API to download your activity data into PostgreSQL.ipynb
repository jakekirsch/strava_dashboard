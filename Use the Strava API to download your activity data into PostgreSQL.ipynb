{
 "cells": [
  {
   "cell_type": "markdown",
   "metadata": {},
   "source": [
    "## Background and Motivation\n",
    "\n",
    "For the past few weeks I've been working on learning Python and building a data science toolkit. Until now, this had largely entailed following canned tutorials and working with data that came from flat files downloaded from some online resource.\n",
    "\n",
    "Given that this is not where most data scientists obtain their data, I wanted to do a small project that would require obtaining data using an API, populating a database, and creating visualizations on top of that database. "
   ]
  },
  {
   "cell_type": "code",
   "execution_count": 1,
   "metadata": {},
   "outputs": [
    {
     "name": "stderr",
     "output_type": "stream",
     "text": [
      "/Users/jakekirsch/.pyenv/versions/jupyter3/lib/python3.6/site-packages/psycopg2/__init__.py:144: UserWarning: The psycopg2 wheel package will be renamed from release 2.8; in order to keep installing from binary please use \"pip install psycopg2-binary\" instead. For details see: <http://initd.org/psycopg/docs/install.html#binary-install-from-pypi>.\n",
      "  \"\"\")\n"
     ]
    }
   ],
   "source": [
    "import pandas as pd\n",
    "import numpy as np\n",
    "import requests # used for api calls\n",
    "import json # parse json body\n",
    "from pandas.io.json import json_normalize\n",
    "import psycopg2\n",
    "from sqlalchemy import create_engine\n"
   ]
  },
  {
   "cell_type": "markdown",
   "metadata": {},
   "source": [
    "## Strava API\n",
    "\n",
    "Strava makes it very easy to use their API. If you are a user of the Strava app, you simply login to their web app and create an application. Even as a complete beginner to using API's, once I had the keys it only took a little experimenting to figure out how to use it. I found this [blog post](https://yizeng.me/2017/01/11/get-a-strava-api-access-token-with-write-permission/) by Yi Zeng very helpful to figure out how to get additional read and write permissions that are necessary to request more detailed information. \n",
    "\n",
    "I learned that it is best practice to hide your API keys from public view (github). It is clear there are more sophisticated and robust ways of doing this, but for a quick and easy solution, you can create a `config.py` file in your project folder and use that script to store your keys. Then you add `config.py` to your `.gitignore` and it doesn't get uploaded."
   ]
  },
  {
   "cell_type": "markdown",
   "metadata": {},
   "source": [
    "At this point, I'll assume you have followed the blog post by Yi Zeng and have experimented with some API calls in your command line.\n",
    "\n",
    "### Refresh API token\n",
    "The access token provided by Strava expires after a certain amount of time. You are given a refresh token that you can exchange for a new access token. I wanted to be able to come back to this notebook and refresh the data at a future point, so I included the lines below to use the refresh token to acquire a new access token"
   ]
  },
  {
   "cell_type": "code",
   "execution_count": 2,
   "metadata": {},
   "outputs": [],
   "source": [
    "import config # create a configuration file to hide your API keys"
   ]
  },
  {
   "cell_type": "code",
   "execution_count": 3,
   "metadata": {},
   "outputs": [],
   "source": [
    "# this refreshes your access code - previously created an access code that had greater permissions\n",
    "refresh = {'client_id':config.client_id,\n",
    "          'client_secret':config.client_secret,\n",
    "          'grant_type':'refresh_token',\n",
    "          'refresh_token':config.refresh_token}\n",
    "response = requests.post('https://www.strava.com/oauth/token', params=refresh)"
   ]
  },
  {
   "cell_type": "code",
   "execution_count": 4,
   "metadata": {},
   "outputs": [],
   "source": [
    "# confirm connection\n",
    "access_token = response.json()['access_token']\n",
    "header = {'Authorization': 'Bearer {}'.format(access_token)}"
   ]
  },
  {
   "cell_type": "code",
   "execution_count": 5,
   "metadata": {},
   "outputs": [
    {
     "data": {
      "text/plain": [
       "178.0"
      ]
     },
     "execution_count": 5,
     "metadata": {},
     "output_type": "execute_result"
    }
   ],
   "source": [
    "# update weight to verify additional permissions are working\n",
    "d = {\"weight\":\"178\"}\n",
    "resp = requests.put('https://www.strava.com/api/v3/athlete', headers=header, data=d)\n",
    "resp.json()['weight']"
   ]
  },
  {
   "cell_type": "markdown",
   "metadata": {},
   "source": [
    "I'm primarily interested in the activity data, let's see what the response looks like. I'll use this information to determine the structure the table I create in my database."
   ]
  },
  {
   "cell_type": "code",
   "execution_count": 6,
   "metadata": {},
   "outputs": [],
   "source": [
    "activities = requests.get('https://www.strava.com/api/v3/athlete/activities', headers = header)"
   ]
  },
  {
   "cell_type": "code",
   "execution_count": 7,
   "metadata": {},
   "outputs": [
    {
     "data": {
      "text/plain": [
       "Index(['achievement_count', 'athlete_count', 'athlete_id',\n",
       "       'athlete_resource_state', 'average_cadence', 'average_heartrate',\n",
       "       'average_speed', 'average_temp', 'comment_count', 'commute',\n",
       "       'display_hide_heartrate_option', 'distance', 'elapsed_time',\n",
       "       'elev_high', 'elev_low', 'end_latlng', 'external_id', 'flagged',\n",
       "       'from_accepted_tag', 'gear_id', 'has_heartrate', 'has_kudoed',\n",
       "       'heartrate_opt_out', 'id', 'kudos_count', 'location_city',\n",
       "       'location_country', 'location_state', 'manual', 'map_id',\n",
       "       'map_resource_state', 'map_summary_polyline', 'max_heartrate',\n",
       "       'max_speed', 'moving_time', 'name', 'photo_count', 'pr_count',\n",
       "       'private', 'resource_state', 'start_date', 'start_date_local',\n",
       "       'start_latitude', 'start_latlng', 'start_longitude', 'timezone',\n",
       "       'total_elevation_gain', 'total_photo_count', 'trainer', 'type',\n",
       "       'upload_id', 'utc_offset', 'visibility', 'workout_type'],\n",
       "      dtype='object')"
      ]
     },
     "execution_count": 7,
     "metadata": {},
     "output_type": "execute_result"
    }
   ],
   "source": [
    "activities.json()\n",
    "activities_test = json_normalize(activities.json(), sep = \"_\")\n",
    "activities_test.columns"
   ]
  },
  {
   "cell_type": "markdown",
   "metadata": {},
   "source": [
    "Note that the json structure can vary activity to activity. I primarily use Strava for running, so I don't receive any of the fields specific to cycling. Also I noticed that depending on whether or not you use a device for a run, some fields will be included. The varying returned fields is something to consider when creating a pipeline from API to database."
   ]
  },
  {
   "cell_type": "markdown",
   "metadata": {},
   "source": [
    "# PostgreSQL\n",
    "\n",
    "I opted to work with PostgreSQL for this project. It seemed like an approachable step up from sqlite3 and you can access it from the command line, so while working on this notebook, I could have a terminal window open, validating steps and experimenting.\n",
    "\n",
    "We use `sqlalchemy` as the primary tool for interacting with our postgres database from python. `sqlalchemy` uses `psycopg2` which is a driver for PostgreSQL. Both allow us to write raw SQL statements and send them to the database, however if we want to use some of the SQL features of Pandas (which we do) we need to use `sqlalchemy` to create an `engine`. The `engine` abstracts away the complexity of managing connections to the database.   \n",
    "\n",
    "There is a good [SO post on the differences here](https://stackoverflow.com/questions/8588126/sqlalchemy-or-psycopg2)\n",
    "\n",
    "Finally, as this experimentation is meant to learn how to request data using the API and load that data into a database, I'm using a local database. In a future iteration of this project, I would like to learn to use a database hosted on a remote server."
   ]
  },
  {
   "cell_type": "code",
   "execution_count": 8,
   "metadata": {},
   "outputs": [],
   "source": [
    "# create an engine - run once\n",
    "engine = create_engine('postgresql://jakekirsch:@localhost/jakekirsch')"
   ]
  },
  {
   "cell_type": "markdown",
   "metadata": {},
   "source": [
    "### Define an activities table\n",
    "I defined the table first - this was because I found the fields vary from request to request."
   ]
  },
  {
   "cell_type": "code",
   "execution_count": 9,
   "metadata": {},
   "outputs": [],
   "source": [
    "# create table\n",
    "drop_create_table = \"\"\"\n",
    "DROP TABLE IF EXISTS activities;\n",
    "\n",
    "CREATE TABLE activities (\n",
    "achievement_count text,\n",
    "athlete_id text,\n",
    "athlete_resource_state text,\n",
    "athlete_count text,\n",
    "average_cadence float,\n",
    "average_heartrate float,\n",
    "average_speed float,\n",
    "average_temp float,\n",
    "comment_count float,\n",
    "commute boolean,\n",
    "display_hide_heartrate_option boolean,\n",
    "distance float,\n",
    "device_watts text,\n",
    "elapsed_time float,\n",
    "elev_high float,\n",
    "elev_low float,\n",
    "end_latlng text,\n",
    "external_id text,\n",
    "flagged boolean,\n",
    "from_accepted_tag boolean,\n",
    "gear_id text,\n",
    "has_heartrate boolean,\n",
    "has_kudoed boolean,\n",
    "heartrate_opt_out boolean,\n",
    "id bigint PRIMARY KEY,\n",
    "kudos_count text,\n",
    "location_city text,\n",
    "location_country text,\n",
    "location_state text,\n",
    "manual boolean,\n",
    "map_id text,\n",
    "map_resource_state text,\n",
    "map_summary_polyline text,\n",
    "max_heartrate float,\n",
    "max_speed float,\n",
    "moving_time float,\n",
    "name text,\n",
    "photo_count text,\n",
    "pr_count text,\n",
    "private boolean,\n",
    "resource_state text,\n",
    "start_date timestamp,\n",
    "start_date_local timestamp,\n",
    "start_latitude text,\n",
    "start_latlng text,\n",
    "start_longitude text,\n",
    "timezone text,\n",
    "total_elevation_gain float,\n",
    "total_photo_count text,\n",
    "trainer boolean,\n",
    "type text,\n",
    "upload_id text,\n",
    "utc_offset float,\n",
    "visibility text,\n",
    "workout_type text\n",
    ");\"\"\"\n"
   ]
  },
  {
   "cell_type": "code",
   "execution_count": 10,
   "metadata": {},
   "outputs": [
    {
     "data": {
      "text/plain": [
       "<sqlalchemy.engine.result.ResultProxy at 0x112306710>"
      ]
     },
     "execution_count": 10,
     "metadata": {},
     "output_type": "execute_result"
    }
   ],
   "source": [
    "# create the table\n",
    "engine.execute(drop_create_table)"
   ]
  },
  {
   "cell_type": "markdown",
   "metadata": {},
   "source": [
    "### Get total activity count\n",
    "This request returns the total number of activities, we use that information to set the loop for requesting all the information."
   ]
  },
  {
   "cell_type": "code",
   "execution_count": 11,
   "metadata": {},
   "outputs": [],
   "source": [
    "# get stats\n",
    "param = {\"page\":1,\n",
    "        \"per_page\":35}\n",
    "athlete_id = config.athlete_id\n",
    "athlete_stats = requests.get('https://www.strava.com/api/v3/athletes/{}/stats'.format(athlete_id), \n",
    "                             headers = header)"
   ]
  },
  {
   "cell_type": "code",
   "execution_count": 12,
   "metadata": {},
   "outputs": [],
   "source": [
    "# total count of activities\n",
    "total_activities = sum([athlete_stats.json()['all_ride_totals']['count'], \n",
    "                        athlete_stats.json()['all_run_totals']['count'], \n",
    "                        athlete_stats.json()['all_swim_totals']['count']])"
   ]
  },
  {
   "cell_type": "code",
   "execution_count": 13,
   "metadata": {},
   "outputs": [
    {
     "data": {
      "text/plain": [
       "4.2"
      ]
     },
     "execution_count": 13,
     "metadata": {},
     "output_type": "execute_result"
    }
   ],
   "source": [
    "# params for api calls - we'll split this into pages because there is a limit to the per_page request\n",
    "per_page = 100\n",
    "(total_activities / per_page) + 1"
   ]
  },
  {
   "cell_type": "markdown",
   "metadata": {},
   "source": [
    "### Insert data using pandas\n",
    "This section structures a request for a set of activities. Then we normalize the json payload into a pandas dataframe. Finally, we use the handy sql methods of pandas to append the returned information to our activities postgres table."
   ]
  },
  {
   "cell_type": "code",
   "execution_count": 14,
   "metadata": {},
   "outputs": [],
   "source": [
    "for page in np.arange(1, (total_activities / per_page) + 2, 1):\n",
    "    activities = requests.get('https://www.strava.com/api/v3/athlete/activities', headers = header, \n",
    "                                 params = {\n",
    "                                     'page': page,\n",
    "                                     'per_page':per_page\n",
    "                                 })\n",
    "    activities_df = json_normalize(activities.json(),  sep=\"_\")\n",
    "    activities_df.to_sql('activities', con=engine, if_exists=\"append\", index=False)\n",
    "    "
   ]
  },
  {
   "cell_type": "markdown",
   "metadata": {},
   "source": [
    "We can use the command line tools to test the result, or we can use pandas again and inspect"
   ]
  },
  {
   "cell_type": "code",
   "execution_count": 15,
   "metadata": {},
   "outputs": [],
   "source": [
    "test = pd.read_sql_table('activities', con=engine)"
   ]
  },
  {
   "cell_type": "code",
   "execution_count": 16,
   "metadata": {},
   "outputs": [
    {
     "data": {
      "text/html": [
       "<div>\n",
       "<style scoped>\n",
       "    .dataframe tbody tr th:only-of-type {\n",
       "        vertical-align: middle;\n",
       "    }\n",
       "\n",
       "    .dataframe tbody tr th {\n",
       "        vertical-align: top;\n",
       "    }\n",
       "\n",
       "    .dataframe thead th {\n",
       "        text-align: right;\n",
       "    }\n",
       "</style>\n",
       "<table border=\"1\" class=\"dataframe\">\n",
       "  <thead>\n",
       "    <tr style=\"text-align: right;\">\n",
       "      <th></th>\n",
       "      <th>achievement_count</th>\n",
       "      <th>athlete_id</th>\n",
       "      <th>athlete_resource_state</th>\n",
       "      <th>athlete_count</th>\n",
       "      <th>average_cadence</th>\n",
       "      <th>average_heartrate</th>\n",
       "      <th>average_speed</th>\n",
       "      <th>average_temp</th>\n",
       "      <th>comment_count</th>\n",
       "      <th>commute</th>\n",
       "      <th>...</th>\n",
       "      <th>start_longitude</th>\n",
       "      <th>timezone</th>\n",
       "      <th>total_elevation_gain</th>\n",
       "      <th>total_photo_count</th>\n",
       "      <th>trainer</th>\n",
       "      <th>type</th>\n",
       "      <th>upload_id</th>\n",
       "      <th>utc_offset</th>\n",
       "      <th>visibility</th>\n",
       "      <th>workout_type</th>\n",
       "    </tr>\n",
       "  </thead>\n",
       "  <tbody>\n",
       "    <tr>\n",
       "      <th>0</th>\n",
       "      <td>0</td>\n",
       "      <td>8633517</td>\n",
       "      <td>1</td>\n",
       "      <td>1</td>\n",
       "      <td>93.9</td>\n",
       "      <td>158.7</td>\n",
       "      <td>3.031</td>\n",
       "      <td>22.0</td>\n",
       "      <td>0.0</td>\n",
       "      <td>False</td>\n",
       "      <td>...</td>\n",
       "      <td>None</td>\n",
       "      <td>(GMT-05:00) America/New_York</td>\n",
       "      <td>0.0</td>\n",
       "      <td>0</td>\n",
       "      <td>True</td>\n",
       "      <td>Run</td>\n",
       "      <td>2266650521</td>\n",
       "      <td>-18000.0</td>\n",
       "      <td>everyone</td>\n",
       "      <td>None</td>\n",
       "    </tr>\n",
       "    <tr>\n",
       "      <th>1</th>\n",
       "      <td>7</td>\n",
       "      <td>8633517</td>\n",
       "      <td>1</td>\n",
       "      <td>1</td>\n",
       "      <td>89.7</td>\n",
       "      <td>161.2</td>\n",
       "      <td>3.078</td>\n",
       "      <td>20.0</td>\n",
       "      <td>0.0</td>\n",
       "      <td>False</td>\n",
       "      <td>...</td>\n",
       "      <td>-73.45</td>\n",
       "      <td>(GMT-05:00) America/New_York</td>\n",
       "      <td>210.0</td>\n",
       "      <td>0</td>\n",
       "      <td>False</td>\n",
       "      <td>Run</td>\n",
       "      <td>2266650344</td>\n",
       "      <td>-18000.0</td>\n",
       "      <td>everyone</td>\n",
       "      <td>None</td>\n",
       "    </tr>\n",
       "    <tr>\n",
       "      <th>2</th>\n",
       "      <td>0</td>\n",
       "      <td>8633517</td>\n",
       "      <td>1</td>\n",
       "      <td>1</td>\n",
       "      <td>87.2</td>\n",
       "      <td>152.7</td>\n",
       "      <td>2.403</td>\n",
       "      <td>22.0</td>\n",
       "      <td>0.0</td>\n",
       "      <td>False</td>\n",
       "      <td>...</td>\n",
       "      <td>-73.45</td>\n",
       "      <td>(GMT-05:00) America/New_York</td>\n",
       "      <td>31.0</td>\n",
       "      <td>0</td>\n",
       "      <td>False</td>\n",
       "      <td>Run</td>\n",
       "      <td>2266649807</td>\n",
       "      <td>-18000.0</td>\n",
       "      <td>everyone</td>\n",
       "      <td>None</td>\n",
       "    </tr>\n",
       "    <tr>\n",
       "      <th>3</th>\n",
       "      <td>4</td>\n",
       "      <td>8633517</td>\n",
       "      <td>1</td>\n",
       "      <td>1</td>\n",
       "      <td>94.5</td>\n",
       "      <td>169.1</td>\n",
       "      <td>4.041</td>\n",
       "      <td>10.0</td>\n",
       "      <td>0.0</td>\n",
       "      <td>False</td>\n",
       "      <td>...</td>\n",
       "      <td>-73.46</td>\n",
       "      <td>(GMT-05:00) America/New_York</td>\n",
       "      <td>121.0</td>\n",
       "      <td>0</td>\n",
       "      <td>False</td>\n",
       "      <td>Run</td>\n",
       "      <td>2257236739</td>\n",
       "      <td>-18000.0</td>\n",
       "      <td>everyone</td>\n",
       "      <td>None</td>\n",
       "    </tr>\n",
       "    <tr>\n",
       "      <th>4</th>\n",
       "      <td>2</td>\n",
       "      <td>8633517</td>\n",
       "      <td>1</td>\n",
       "      <td>1</td>\n",
       "      <td>93.7</td>\n",
       "      <td>164.0</td>\n",
       "      <td>3.431</td>\n",
       "      <td>21.0</td>\n",
       "      <td>0.0</td>\n",
       "      <td>False</td>\n",
       "      <td>...</td>\n",
       "      <td>-73.45</td>\n",
       "      <td>(GMT-05:00) America/New_York</td>\n",
       "      <td>104.0</td>\n",
       "      <td>0</td>\n",
       "      <td>False</td>\n",
       "      <td>Run</td>\n",
       "      <td>2254958593</td>\n",
       "      <td>-18000.0</td>\n",
       "      <td>everyone</td>\n",
       "      <td>None</td>\n",
       "    </tr>\n",
       "  </tbody>\n",
       "</table>\n",
       "<p>5 rows × 55 columns</p>\n",
       "</div>"
      ],
      "text/plain": [
       "  achievement_count athlete_id athlete_resource_state athlete_count  \\\n",
       "0                 0    8633517                      1             1   \n",
       "1                 7    8633517                      1             1   \n",
       "2                 0    8633517                      1             1   \n",
       "3                 4    8633517                      1             1   \n",
       "4                 2    8633517                      1             1   \n",
       "\n",
       "   average_cadence  average_heartrate  average_speed  average_temp  \\\n",
       "0             93.9              158.7          3.031          22.0   \n",
       "1             89.7              161.2          3.078          20.0   \n",
       "2             87.2              152.7          2.403          22.0   \n",
       "3             94.5              169.1          4.041          10.0   \n",
       "4             93.7              164.0          3.431          21.0   \n",
       "\n",
       "   comment_count  commute     ...       start_longitude  \\\n",
       "0            0.0    False     ...                  None   \n",
       "1            0.0    False     ...                -73.45   \n",
       "2            0.0    False     ...                -73.45   \n",
       "3            0.0    False     ...                -73.46   \n",
       "4            0.0    False     ...                -73.45   \n",
       "\n",
       "                       timezone total_elevation_gain  total_photo_count  \\\n",
       "0  (GMT-05:00) America/New_York                  0.0                  0   \n",
       "1  (GMT-05:00) America/New_York                210.0                  0   \n",
       "2  (GMT-05:00) America/New_York                 31.0                  0   \n",
       "3  (GMT-05:00) America/New_York                121.0                  0   \n",
       "4  (GMT-05:00) America/New_York                104.0                  0   \n",
       "\n",
       "   trainer  type   upload_id utc_offset  visibility workout_type  \n",
       "0     True   Run  2266650521   -18000.0    everyone         None  \n",
       "1    False   Run  2266650344   -18000.0    everyone         None  \n",
       "2    False   Run  2266649807   -18000.0    everyone         None  \n",
       "3    False   Run  2257236739   -18000.0    everyone         None  \n",
       "4    False   Run  2254958593   -18000.0    everyone         None  \n",
       "\n",
       "[5 rows x 55 columns]"
      ]
     },
     "execution_count": 16,
     "metadata": {},
     "output_type": "execute_result"
    }
   ],
   "source": [
    "test.head()"
   ]
  },
  {
   "cell_type": "markdown",
   "metadata": {},
   "source": [
    "*Note that there is a limitation to the `pd.to_sql` method, we can't easily use it to update existing rows or only upload non-duplicates if a primary key is defined on the table. There are quite a few solutions on SO, however the most robust seems to learn how to use the ORM capabilities of sqlalchemy to create a data pipeline. This would be less SQL code and more python, however the underlying concepts are similar.*"
   ]
  },
  {
   "cell_type": "markdown",
   "metadata": {},
   "source": [
    "## Summary \n",
    "\n",
    "That's it! In summary, we accomplished the following.\n",
    "\n",
    "1. Generate keys to Strava API\n",
    "2. Refresh access keys to API when needed\n",
    "3. Defined a table in PostgreSQL\n",
    "4. Requested activity data from Strava\n",
    "5. Used the SQL methods of Pandas to insert into our postgres table\n",
    "6. Used SQL methods of Pandas to retrieve data from activities table \n",
    "\n",
    "Hopefully this short walk-through gives you enough familiarity with some of the tools needed to get started working with the Strava API.\n",
    "\n",
    "The next post will cover some examples creating visualizations using your Strava activity data. Because we need the SQL practice, we will challenge ourselves to do all of the data processing using SQL commands!"
   ]
  },
  {
   "cell_type": "code",
   "execution_count": null,
   "metadata": {},
   "outputs": [],
   "source": []
  }
 ],
 "metadata": {
  "kernelspec": {
   "display_name": "Python 3",
   "language": "python",
   "name": "python3"
  },
  "language_info": {
   "codemirror_mode": {
    "name": "ipython",
    "version": 3
   },
   "file_extension": ".py",
   "mimetype": "text/x-python",
   "name": "python",
   "nbconvert_exporter": "python",
   "pygments_lexer": "ipython3",
   "version": "3.6.0"
  }
 },
 "nbformat": 4,
 "nbformat_minor": 2
}
